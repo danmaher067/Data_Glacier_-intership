{
  "nbformat": 4,
  "nbformat_minor": 0,
  "metadata": {
    "colab": {
      "name": "Week6.ipynb",
      "provenance": [],
      "collapsed_sections": [],
      "authorship_tag": "ABX9TyOzstLNf4DMd/SJE74c/1Vv",
      "include_colab_link": true
    },
    "kernelspec": {
      "name": "python3",
      "display_name": "Python 3"
    },
    "language_info": {
      "name": "python"
    }
  },
  "cells": [
    {
      "cell_type": "markdown",
      "metadata": {
        "id": "view-in-github",
        "colab_type": "text"
      },
      "source": [
        "<a href=\"https://colab.research.google.com/github/danmaher067/Data_Glacier_-intership/blob/main/Week6.ipynb\" target=\"_parent\"><img src=\"https://colab.research.google.com/assets/colab-badge.svg\" alt=\"Open In Colab\"/></a>"
      ]
    },
    {
      "cell_type": "code",
      "metadata": {
        "colab": {
          "base_uri": "https://localhost:8080/",
          "height": 412
        },
        "id": "dISZMOHRFB9A",
        "outputId": "64255992-b1c2-4233-c6a9-8a132fe2f878"
      },
      "source": [
        "pip install modin"
      ],
      "execution_count": 3,
      "outputs": [
        {
          "output_type": "stream",
          "text": [
            "Collecting modin\n",
            "\u001b[?25l  Downloading https://files.pythonhosted.org/packages/20/87/118bc738470e51052162f744f3f7e0d9285f6e73be34b49f62c61ae1893d/modin-0.9.1-py3-none-manylinux1_x86_64.whl (579kB)\n",
            "\r\u001b[K     |▋                               | 10kB 15.7MB/s eta 0:00:01\r\u001b[K     |█▏                              | 20kB 10.8MB/s eta 0:00:01\r\u001b[K     |█▊                              | 30kB 8.7MB/s eta 0:00:01\r\u001b[K     |██▎                             | 40kB 8.3MB/s eta 0:00:01\r\u001b[K     |██▉                             | 51kB 4.3MB/s eta 0:00:01\r\u001b[K     |███▍                            | 61kB 5.0MB/s eta 0:00:01\r\u001b[K     |████                            | 71kB 5.3MB/s eta 0:00:01\r\u001b[K     |████▌                           | 81kB 5.3MB/s eta 0:00:01\r\u001b[K     |█████                           | 92kB 5.8MB/s eta 0:00:01\r\u001b[K     |█████▋                          | 102kB 5.9MB/s eta 0:00:01\r\u001b[K     |██████▏                         | 112kB 5.9MB/s eta 0:00:01\r\u001b[K     |██████▉                         | 122kB 5.9MB/s eta 0:00:01\r\u001b[K     |███████▍                        | 133kB 5.9MB/s eta 0:00:01\r\u001b[K     |████████                        | 143kB 5.9MB/s eta 0:00:01\r\u001b[K     |████████▌                       | 153kB 5.9MB/s eta 0:00:01\r\u001b[K     |█████████                       | 163kB 5.9MB/s eta 0:00:01\r\u001b[K     |█████████▋                      | 174kB 5.9MB/s eta 0:00:01\r\u001b[K     |██████████▏                     | 184kB 5.9MB/s eta 0:00:01\r\u001b[K     |██████████▊                     | 194kB 5.9MB/s eta 0:00:01\r\u001b[K     |███████████▎                    | 204kB 5.9MB/s eta 0:00:01\r\u001b[K     |███████████▉                    | 215kB 5.9MB/s eta 0:00:01\r\u001b[K     |████████████▍                   | 225kB 5.9MB/s eta 0:00:01\r\u001b[K     |█████████████                   | 235kB 5.9MB/s eta 0:00:01\r\u001b[K     |█████████████▋                  | 245kB 5.9MB/s eta 0:00:01\r\u001b[K     |██████████████▏                 | 256kB 5.9MB/s eta 0:00:01\r\u001b[K     |██████████████▊                 | 266kB 5.9MB/s eta 0:00:01\r\u001b[K     |███████████████▎                | 276kB 5.9MB/s eta 0:00:01\r\u001b[K     |███████████████▉                | 286kB 5.9MB/s eta 0:00:01\r\u001b[K     |████████████████▍               | 296kB 5.9MB/s eta 0:00:01\r\u001b[K     |█████████████████               | 307kB 5.9MB/s eta 0:00:01\r\u001b[K     |█████████████████▌              | 317kB 5.9MB/s eta 0:00:01\r\u001b[K     |██████████████████              | 327kB 5.9MB/s eta 0:00:01\r\u001b[K     |██████████████████▋             | 337kB 5.9MB/s eta 0:00:01\r\u001b[K     |███████████████████▏            | 348kB 5.9MB/s eta 0:00:01\r\u001b[K     |███████████████████▉            | 358kB 5.9MB/s eta 0:00:01\r\u001b[K     |████████████████████▍           | 368kB 5.9MB/s eta 0:00:01\r\u001b[K     |█████████████████████           | 378kB 5.9MB/s eta 0:00:01\r\u001b[K     |█████████████████████▌          | 389kB 5.9MB/s eta 0:00:01\r\u001b[K     |██████████████████████          | 399kB 5.9MB/s eta 0:00:01\r\u001b[K     |██████████████████████▋         | 409kB 5.9MB/s eta 0:00:01\r\u001b[K     |███████████████████████▏        | 419kB 5.9MB/s eta 0:00:01\r\u001b[K     |███████████████████████▊        | 430kB 5.9MB/s eta 0:00:01\r\u001b[K     |████████████████████████▎       | 440kB 5.9MB/s eta 0:00:01\r\u001b[K     |████████████████████████▉       | 450kB 5.9MB/s eta 0:00:01\r\u001b[K     |█████████████████████████▍      | 460kB 5.9MB/s eta 0:00:01\r\u001b[K     |██████████████████████████      | 471kB 5.9MB/s eta 0:00:01\r\u001b[K     |██████████████████████████▋     | 481kB 5.9MB/s eta 0:00:01\r\u001b[K     |███████████████████████████▏    | 491kB 5.9MB/s eta 0:00:01\r\u001b[K     |███████████████████████████▊    | 501kB 5.9MB/s eta 0:00:01\r\u001b[K     |████████████████████████████▎   | 512kB 5.9MB/s eta 0:00:01\r\u001b[K     |████████████████████████████▉   | 522kB 5.9MB/s eta 0:00:01\r\u001b[K     |█████████████████████████████▍  | 532kB 5.9MB/s eta 0:00:01\r\u001b[K     |██████████████████████████████  | 542kB 5.9MB/s eta 0:00:01\r\u001b[K     |██████████████████████████████▌ | 552kB 5.9MB/s eta 0:00:01\r\u001b[K     |███████████████████████████████ | 563kB 5.9MB/s eta 0:00:01\r\u001b[K     |███████████████████████████████▋| 573kB 5.9MB/s eta 0:00:01\r\u001b[K     |████████████████████████████████| 583kB 5.9MB/s \n",
            "\u001b[?25hRequirement already satisfied: numpy<1.20,>=1.16.5 in /usr/local/lib/python3.7/dist-packages (from modin) (1.19.5)\n",
            "Requirement already satisfied: packaging in /usr/local/lib/python3.7/dist-packages (from modin) (20.9)\n",
            "Collecting pandas==1.2.3\n",
            "\u001b[?25l  Downloading https://files.pythonhosted.org/packages/f3/d4/3fe3b5bf9886912b64ef040040aec356fa48825e5a829a84c2667afdf952/pandas-1.2.3-cp37-cp37m-manylinux1_x86_64.whl (9.9MB)\n",
            "\u001b[K     |████████████████████████████████| 9.9MB 27.0MB/s \n",
            "\u001b[?25hRequirement already satisfied: pyparsing>=2.0.2 in /usr/local/lib/python3.7/dist-packages (from packaging->modin) (2.4.7)\n",
            "Requirement already satisfied: pytz>=2017.3 in /usr/local/lib/python3.7/dist-packages (from pandas==1.2.3->modin) (2018.9)\n",
            "Requirement already satisfied: python-dateutil>=2.7.3 in /usr/local/lib/python3.7/dist-packages (from pandas==1.2.3->modin) (2.8.1)\n",
            "Requirement already satisfied: six>=1.5 in /usr/local/lib/python3.7/dist-packages (from python-dateutil>=2.7.3->pandas==1.2.3->modin) (1.15.0)\n",
            "\u001b[31mERROR: google-colab 1.0.0 has requirement pandas~=1.1.0; python_version >= \"3.0\", but you'll have pandas 1.2.3 which is incompatible.\u001b[0m\n",
            "Installing collected packages: pandas, modin\n",
            "  Found existing installation: pandas 1.1.5\n",
            "    Uninstalling pandas-1.1.5:\n",
            "      Successfully uninstalled pandas-1.1.5\n",
            "Successfully installed modin-0.9.1 pandas-1.2.3\n"
          ],
          "name": "stdout"
        },
        {
          "output_type": "display_data",
          "data": {
            "application/vnd.colab-display-data+json": {
              "pip_warning": {
                "packages": [
                  "pandas"
                ]
              }
            }
          },
          "metadata": {
            "tags": []
          }
        }
      ]
    },
    {
      "cell_type": "code",
      "metadata": {
        "colab": {
          "base_uri": "https://localhost:8080/"
        },
        "id": "IGdTgBJaFuve",
        "outputId": "6d50a922-a57d-4f5a-84ea-445d3157d051"
      },
      "source": [
        "pip install 'fsspec>=0.3.3'"
      ],
      "execution_count": 4,
      "outputs": [
        {
          "output_type": "stream",
          "text": [
            "Collecting fsspec>=0.3.3\n",
            "\u001b[?25l  Downloading https://files.pythonhosted.org/packages/91/0d/a6bfee0ddf47b254286b9bd574e6f50978c69897647ae15b14230711806e/fsspec-0.8.7-py3-none-any.whl (103kB)\n",
            "\r\u001b[K     |███▏                            | 10kB 15.0MB/s eta 0:00:01\r\u001b[K     |██████▍                         | 20kB 9.2MB/s eta 0:00:01\r\u001b[K     |█████████▌                      | 30kB 6.0MB/s eta 0:00:01\r\u001b[K     |████████████▊                   | 40kB 6.0MB/s eta 0:00:01\r\u001b[K     |███████████████▉                | 51kB 4.3MB/s eta 0:00:01\r\u001b[K     |███████████████████             | 61kB 4.9MB/s eta 0:00:01\r\u001b[K     |██████████████████████▏         | 71kB 5.1MB/s eta 0:00:01\r\u001b[K     |█████████████████████████▍      | 81kB 5.2MB/s eta 0:00:01\r\u001b[K     |████████████████████████████▌   | 92kB 5.3MB/s eta 0:00:01\r\u001b[K     |███████████████████████████████▊| 102kB 4.4MB/s eta 0:00:01\r\u001b[K     |████████████████████████████████| 112kB 4.4MB/s \n",
            "\u001b[?25hRequirement already satisfied: importlib-metadata; python_version < \"3.8\" in /usr/local/lib/python3.7/dist-packages (from fsspec>=0.3.3) (3.8.1)\n",
            "Requirement already satisfied: zipp>=0.5 in /usr/local/lib/python3.7/dist-packages (from importlib-metadata; python_version < \"3.8\"->fsspec>=0.3.3) (3.4.1)\n",
            "Requirement already satisfied: typing-extensions>=3.6.4; python_version < \"3.8\" in /usr/local/lib/python3.7/dist-packages (from importlib-metadata; python_version < \"3.8\"->fsspec>=0.3.3) (3.7.4.3)\n",
            "Installing collected packages: fsspec\n",
            "Successfully installed fsspec-0.8.7\n"
          ],
          "name": "stdout"
        }
      ]
    },
    {
      "cell_type": "code",
      "metadata": {
        "colab": {
          "base_uri": "https://localhost:8080/"
        },
        "id": "0FDSg-gMHbs2",
        "outputId": "b01db96b-5bef-433a-f4f2-f3b8453eab50"
      },
      "source": [
        "pip install modin[all]"
      ],
      "execution_count": 5,
      "outputs": [
        {
          "output_type": "stream",
          "text": [
            "Requirement already satisfied: modin[all] in /usr/local/lib/python3.7/dist-packages (0.9.1)\n",
            "Requirement already satisfied: numpy<1.20,>=1.16.5 in /usr/local/lib/python3.7/dist-packages (from modin[all]) (1.19.5)\n",
            "Requirement already satisfied: packaging in /usr/local/lib/python3.7/dist-packages (from modin[all]) (20.9)\n",
            "Requirement already satisfied: pandas==1.2.3 in /usr/local/lib/python3.7/dist-packages (from modin[all]) (1.2.3)\n",
            "Collecting rpyc==4.1.5; extra == \"all\"\n",
            "\u001b[?25l  Downloading https://files.pythonhosted.org/packages/a4/ee/dbfdd5392db9330971756229ebf05ae8fbf38f70f4617dfc678fd9d4473a/rpyc-4.1.5-py3-none-any.whl (68kB)\n",
            "\u001b[K     |████████████████████████████████| 71kB 3.3MB/s \n",
            "\u001b[?25hCollecting distributed<=2.19.0,>=2.12.0; extra == \"all\"\n",
            "\u001b[?25l  Downloading https://files.pythonhosted.org/packages/ed/5b/c489f407e1b48981c6c17b1e3458910882430f9fc4576b4bf9efef9140c6/distributed-2.19.0-py3-none-any.whl (643kB)\n",
            "\u001b[K     |████████████████████████████████| 645kB 8.0MB/s \n",
            "\u001b[?25hRequirement already satisfied: dask<=2.19.0,>=2.12.0; extra == \"all\" in /usr/local/lib/python3.7/dist-packages (from modin[all]) (2.12.0)\n",
            "Collecting pyarrow==1.0; extra == \"all\"\n",
            "\u001b[?25l  Downloading https://files.pythonhosted.org/packages/45/f4/a86a09ae9944ed3c10e2a628dee3e4c37b81f42063ab4f554d6962bc048d/pyarrow-1.0.0-cp37-cp37m-manylinux2014_x86_64.whl (17.2MB)\n",
            "\u001b[K     |████████████████████████████████| 17.2MB 254kB/s \n",
            "\u001b[?25hCollecting ray<1.2.0,>=1.0.0; extra == \"all\"\n",
            "\u001b[?25l  Downloading https://files.pythonhosted.org/packages/dd/bc/e1ae5b67cd8e0a4ca84f9a59b65b210daf4ed1d9ad69c035f1824aa1256f/ray-1.1.0-cp37-cp37m-manylinux2014_x86_64.whl (48.5MB)\n",
            "\u001b[K     |████████████████████████████████| 48.5MB 85kB/s \n",
            "\u001b[?25hCollecting boto3==1.4.8; extra == \"all\"\n",
            "\u001b[?25l  Downloading https://files.pythonhosted.org/packages/7d/09/66fef826fb13a2cee74a1df56c269d2794a90ece49c3b77113b733e4b91d/boto3-1.4.8-py2.py3-none-any.whl (128kB)\n",
            "\u001b[K     |████████████████████████████████| 133kB 57.0MB/s \n",
            "\u001b[?25hCollecting modin-spreadsheet>=0.1.0; extra == \"all\"\n",
            "\u001b[?25l  Downloading https://files.pythonhosted.org/packages/ba/25/25669bbd310b145c8196656c4e3a9b608ad4676e4862e5ca18a6d5052f54/modin_spreadsheet-0.1.1-py2.py3-none-any.whl (1.8MB)\n",
            "\u001b[K     |████████████████████████████████| 1.8MB 36.8MB/s \n",
            "\u001b[?25hCollecting cloudpickle==1.4.1; extra == \"all\"\n",
            "  Downloading https://files.pythonhosted.org/packages/c6/a5/bb99276ec2685e11d34e4aefc0d9238626843ea51f974aa59c68317d34b2/cloudpickle-1.4.1-py3-none-any.whl\n",
            "Requirement already satisfied: pyparsing>=2.0.2 in /usr/local/lib/python3.7/dist-packages (from packaging->modin[all]) (2.4.7)\n",
            "Requirement already satisfied: python-dateutil>=2.7.3 in /usr/local/lib/python3.7/dist-packages (from pandas==1.2.3->modin[all]) (2.8.1)\n",
            "Requirement already satisfied: pytz>=2017.3 in /usr/local/lib/python3.7/dist-packages (from pandas==1.2.3->modin[all]) (2018.9)\n",
            "Collecting plumbum\n",
            "\u001b[?25l  Downloading https://files.pythonhosted.org/packages/6c/fc/6cdaf59a001c707333869b054daf1e0df02978d261f20f8b082afcf189c3/plumbum-1.7.0-py2.py3-none-any.whl (116kB)\n",
            "\u001b[K     |████████████████████████████████| 122kB 58.7MB/s \n",
            "\u001b[?25hRequirement already satisfied: pyyaml in /usr/local/lib/python3.7/dist-packages (from distributed<=2.19.0,>=2.12.0; extra == \"all\"->modin[all]) (3.13)\n",
            "Requirement already satisfied: tornado>=5; python_version < \"3.8\" in /usr/local/lib/python3.7/dist-packages (from distributed<=2.19.0,>=2.12.0; extra == \"all\"->modin[all]) (5.1.1)\n",
            "Requirement already satisfied: sortedcontainers!=2.0.0,!=2.0.1 in /usr/local/lib/python3.7/dist-packages (from distributed<=2.19.0,>=2.12.0; extra == \"all\"->modin[all]) (2.3.0)\n",
            "Requirement already satisfied: zict>=0.1.3 in /usr/local/lib/python3.7/dist-packages (from distributed<=2.19.0,>=2.12.0; extra == \"all\"->modin[all]) (2.0.0)\n",
            "Requirement already satisfied: msgpack>=0.6.0 in /usr/local/lib/python3.7/dist-packages (from distributed<=2.19.0,>=2.12.0; extra == \"all\"->modin[all]) (1.0.2)\n",
            "Requirement already satisfied: psutil>=5.0 in /usr/local/lib/python3.7/dist-packages (from distributed<=2.19.0,>=2.12.0; extra == \"all\"->modin[all]) (5.4.8)\n",
            "Requirement already satisfied: toolz>=0.8.2 in /usr/local/lib/python3.7/dist-packages (from distributed<=2.19.0,>=2.12.0; extra == \"all\"->modin[all]) (0.11.1)\n",
            "Requirement already satisfied: tblib>=1.6.0 in /usr/local/lib/python3.7/dist-packages (from distributed<=2.19.0,>=2.12.0; extra == \"all\"->modin[all]) (1.7.0)\n",
            "Requirement already satisfied: setuptools in /usr/local/lib/python3.7/dist-packages (from distributed<=2.19.0,>=2.12.0; extra == \"all\"->modin[all]) (54.2.0)\n",
            "Requirement already satisfied: click>=6.6 in /usr/local/lib/python3.7/dist-packages (from distributed<=2.19.0,>=2.12.0; extra == \"all\"->modin[all]) (7.1.2)\n",
            "Collecting py-spy>=0.2.0\n",
            "\u001b[?25l  Downloading https://files.pythonhosted.org/packages/fa/a6/52515fe345fad06a567feb0ee3841bface31f00e1e0dcd401aa16b3fc648/py_spy-0.3.5-py2.py3-none-manylinux1_x86_64.whl (3.1MB)\n",
            "\u001b[K     |████████████████████████████████| 3.1MB 45.5MB/s \n",
            "\u001b[?25hCollecting aioredis\n",
            "\u001b[?25l  Downloading https://files.pythonhosted.org/packages/b0/64/1b1612d0a104f21f80eb4c6e1b6075f2e6aba8e228f46f229cfd3fdac859/aioredis-1.3.1-py3-none-any.whl (65kB)\n",
            "\u001b[K     |████████████████████████████████| 71kB 8.2MB/s \n",
            "\u001b[?25hCollecting opencensus\n",
            "\u001b[?25l  Downloading https://files.pythonhosted.org/packages/e2/d6/b952f11b29c3a0cbec5620de3c4260cecd8c4329d83e91587edb48691e15/opencensus-0.7.12-py2.py3-none-any.whl (127kB)\n",
            "\u001b[K     |████████████████████████████████| 133kB 38.9MB/s \n",
            "\u001b[?25hRequirement already satisfied: requests in /usr/local/lib/python3.7/dist-packages (from ray<1.2.0,>=1.0.0; extra == \"all\"->modin[all]) (2.23.0)\n",
            "Requirement already satisfied: prometheus-client>=0.7.1 in /usr/local/lib/python3.7/dist-packages (from ray<1.2.0,>=1.0.0; extra == \"all\"->modin[all]) (0.9.0)\n",
            "Collecting aiohttp\n",
            "\u001b[?25l  Downloading https://files.pythonhosted.org/packages/88/c0/5890b4c8b04a79b7360e8fe4490feb0bb3ab179743f199f0e6220cebd568/aiohttp-3.7.4.post0-cp37-cp37m-manylinux2014_x86_64.whl (1.3MB)\n",
            "\u001b[K     |████████████████████████████████| 1.3MB 38.4MB/s \n",
            "\u001b[?25hCollecting gpustat\n",
            "\u001b[?25l  Downloading https://files.pythonhosted.org/packages/b4/69/d8c849715171aeabd61af7da080fdc60948b5a396d2422f1f4672e43d008/gpustat-0.6.0.tar.gz (78kB)\n",
            "\u001b[K     |████████████████████████████████| 81kB 8.9MB/s \n",
            "\u001b[?25hRequirement already satisfied: filelock in /usr/local/lib/python3.7/dist-packages (from ray<1.2.0,>=1.0.0; extra == \"all\"->modin[all]) (3.0.12)\n",
            "Collecting colorama\n",
            "  Downloading https://files.pythonhosted.org/packages/44/98/5b86278fbbf250d239ae0ecb724f8572af1c91f4a11edf4d36a206189440/colorama-0.4.4-py2.py3-none-any.whl\n",
            "Collecting redis>=3.5.0\n",
            "\u001b[?25l  Downloading https://files.pythonhosted.org/packages/a7/7c/24fb0511df653cf1a5d938d8f5d19802a88cef255706fdda242ff97e91b7/redis-3.5.3-py2.py3-none-any.whl (72kB)\n",
            "\u001b[K     |████████████████████████████████| 81kB 8.9MB/s \n",
            "\u001b[?25hCollecting aiohttp-cors\n",
            "  Downloading https://files.pythonhosted.org/packages/13/e7/e436a0c0eb5127d8b491a9b83ecd2391c6ff7dcd5548dfaec2080a2340fd/aiohttp_cors-0.7.0-py3-none-any.whl\n",
            "Collecting colorful\n",
            "\u001b[?25l  Downloading https://files.pythonhosted.org/packages/b0/8e/e386e248266952d24d73ed734c2f5513f34d9557032618c8910e605dfaf6/colorful-0.5.4-py2.py3-none-any.whl (201kB)\n",
            "\u001b[K     |████████████████████████████████| 204kB 47.5MB/s \n",
            "\u001b[?25hRequirement already satisfied: protobuf>=3.8.0 in /usr/local/lib/python3.7/dist-packages (from ray<1.2.0,>=1.0.0; extra == \"all\"->modin[all]) (3.12.4)\n",
            "Requirement already satisfied: jsonschema in /usr/local/lib/python3.7/dist-packages (from ray<1.2.0,>=1.0.0; extra == \"all\"->modin[all]) (2.6.0)\n",
            "Requirement already satisfied: grpcio>=1.28.1 in /usr/local/lib/python3.7/dist-packages (from ray<1.2.0,>=1.0.0; extra == \"all\"->modin[all]) (1.32.0)\n",
            "Collecting botocore<1.9.0,>=1.8.0\n",
            "\u001b[?25l  Downloading https://files.pythonhosted.org/packages/5a/9f/c74178afb86983446a4aea1f308272f6e92a96dd7b6efd086eb50241b10c/botocore-1.8.50-py2.py3-none-any.whl (4.1MB)\n",
            "\u001b[K     |████████████████████████████████| 4.1MB 43.7MB/s \n",
            "\u001b[?25hCollecting jmespath<1.0.0,>=0.7.1\n",
            "  Downloading https://files.pythonhosted.org/packages/07/cb/5f001272b6faeb23c1c9e0acc04d48eaaf5c862c17709d20e3469c6e0139/jmespath-0.10.0-py2.py3-none-any.whl\n",
            "Collecting s3transfer<0.2.0,>=0.1.10\n",
            "\u001b[?25l  Downloading https://files.pythonhosted.org/packages/d7/14/2a0004d487464d120c9fb85313a75cd3d71a7506955be458eebfe19a6b1d/s3transfer-0.1.13-py2.py3-none-any.whl (59kB)\n",
            "\u001b[K     |████████████████████████████████| 61kB 6.9MB/s \n",
            "\u001b[?25hCollecting notebook>=6.0.3\n",
            "\u001b[?25l  Downloading https://files.pythonhosted.org/packages/5d/86/8f951abc6ac651a75a059d2b77fe99fa5df80bf4dc4700c126a0bee486b8/notebook-6.3.0-py3-none-any.whl (9.5MB)\n",
            "\u001b[K     |████████████████████████████████| 9.5MB 40.2MB/s \n",
            "\u001b[?25hRequirement already satisfied: ipywidgets>=7.0.0 in /usr/local/lib/python3.7/dist-packages (from modin-spreadsheet>=0.1.0; extra == \"all\"->modin[all]) (7.6.3)\n",
            "Requirement already satisfied: jupyter>=1.0.0 in /usr/local/lib/python3.7/dist-packages (from modin-spreadsheet>=0.1.0; extra == \"all\"->modin[all]) (1.0.0)\n",
            "Requirement already satisfied: six>=1.5 in /usr/local/lib/python3.7/dist-packages (from python-dateutil>=2.7.3->pandas==1.2.3->modin[all]) (1.15.0)\n",
            "Requirement already satisfied: heapdict in /usr/local/lib/python3.7/dist-packages (from zict>=0.1.3->distributed<=2.19.0,>=2.12.0; extra == \"all\"->modin[all]) (1.0.1)\n",
            "Collecting hiredis\n",
            "\u001b[?25l  Downloading https://files.pythonhosted.org/packages/ed/33/290cea35b09c80b4634773ad5572a8030a87b5d39736719f698f521d2a13/hiredis-2.0.0-cp37-cp37m-manylinux2010_x86_64.whl (85kB)\n",
            "\u001b[K     |████████████████████████████████| 92kB 9.6MB/s \n",
            "\u001b[?25hCollecting async-timeout\n",
            "  Downloading https://files.pythonhosted.org/packages/e1/1e/5a4441be21b0726c4464f3f23c8b19628372f606755a9d2e46c187e65ec4/async_timeout-3.0.1-py3-none-any.whl\n",
            "Collecting opencensus-context==0.1.2\n",
            "  Downloading https://files.pythonhosted.org/packages/f1/33/990f1bd9e7ee770fc8d3c154fc24743a96f16a0e49e14e1b7540cc2fdd93/opencensus_context-0.1.2-py2.py3-none-any.whl\n",
            "Requirement already satisfied: google-api-core<2.0.0,>=1.0.0 in /usr/local/lib/python3.7/dist-packages (from opencensus->ray<1.2.0,>=1.0.0; extra == \"all\"->modin[all]) (1.26.2)\n",
            "Requirement already satisfied: urllib3!=1.25.0,!=1.25.1,<1.26,>=1.21.1 in /usr/local/lib/python3.7/dist-packages (from requests->ray<1.2.0,>=1.0.0; extra == \"all\"->modin[all]) (1.24.3)\n",
            "Requirement already satisfied: chardet<4,>=3.0.2 in /usr/local/lib/python3.7/dist-packages (from requests->ray<1.2.0,>=1.0.0; extra == \"all\"->modin[all]) (3.0.4)\n",
            "Requirement already satisfied: certifi>=2017.4.17 in /usr/local/lib/python3.7/dist-packages (from requests->ray<1.2.0,>=1.0.0; extra == \"all\"->modin[all]) (2020.12.5)\n",
            "Requirement already satisfied: idna<3,>=2.5 in /usr/local/lib/python3.7/dist-packages (from requests->ray<1.2.0,>=1.0.0; extra == \"all\"->modin[all]) (2.10)\n",
            "Collecting yarl<2.0,>=1.0\n",
            "\u001b[?25l  Downloading https://files.pythonhosted.org/packages/f1/62/046834c5fc998c88ab2ef722f5d42122230a632212c8afa76418324f53ff/yarl-1.6.3-cp37-cp37m-manylinux2014_x86_64.whl (294kB)\n",
            "\u001b[K     |████████████████████████████████| 296kB 44.3MB/s \n",
            "\u001b[?25hRequirement already satisfied: typing-extensions>=3.6.5 in /usr/local/lib/python3.7/dist-packages (from aiohttp->ray<1.2.0,>=1.0.0; extra == \"all\"->modin[all]) (3.7.4.3)\n",
            "Requirement already satisfied: attrs>=17.3.0 in /usr/local/lib/python3.7/dist-packages (from aiohttp->ray<1.2.0,>=1.0.0; extra == \"all\"->modin[all]) (20.3.0)\n",
            "Collecting multidict<7.0,>=4.5\n",
            "\u001b[?25l  Downloading https://files.pythonhosted.org/packages/7c/a6/4123b8165acbe773d1a8dc8e3f0d1edea16d29f7de018eda769abb56bd30/multidict-5.1.0-cp37-cp37m-manylinux2014_x86_64.whl (142kB)\n",
            "\u001b[K     |████████████████████████████████| 143kB 58.4MB/s \n",
            "\u001b[?25hRequirement already satisfied: nvidia-ml-py3>=7.352.0 in /usr/local/lib/python3.7/dist-packages (from gpustat->ray<1.2.0,>=1.0.0; extra == \"all\"->modin[all]) (7.352.0)\n",
            "Collecting blessings>=1.6\n",
            "  Downloading https://files.pythonhosted.org/packages/03/74/489f85a78247609c6b4f13733cbf3ba0d864b11aa565617b645d6fdf2a4a/blessings-1.7-py3-none-any.whl\n",
            "Requirement already satisfied: docutils>=0.10 in /usr/local/lib/python3.7/dist-packages (from botocore<1.9.0,>=1.8.0->boto3==1.4.8; extra == \"all\"->modin[all]) (0.16)\n",
            "Requirement already satisfied: ipykernel in /usr/local/lib/python3.7/dist-packages (from notebook>=6.0.3->modin-spreadsheet>=0.1.0; extra == \"all\"->modin[all]) (4.10.1)\n",
            "Requirement already satisfied: ipython-genutils in /usr/local/lib/python3.7/dist-packages (from notebook>=6.0.3->modin-spreadsheet>=0.1.0; extra == \"all\"->modin[all]) (0.2.0)\n",
            "Requirement already satisfied: nbconvert in /usr/local/lib/python3.7/dist-packages (from notebook>=6.0.3->modin-spreadsheet>=0.1.0; extra == \"all\"->modin[all]) (5.6.1)\n",
            "Requirement already satisfied: pyzmq>=17 in /usr/local/lib/python3.7/dist-packages (from notebook>=6.0.3->modin-spreadsheet>=0.1.0; extra == \"all\"->modin[all]) (22.0.3)\n",
            "Requirement already satisfied: jupyter-core>=4.6.1 in /usr/local/lib/python3.7/dist-packages (from notebook>=6.0.3->modin-spreadsheet>=0.1.0; extra == \"all\"->modin[all]) (4.7.1)\n",
            "Requirement already satisfied: argon2-cffi in /usr/local/lib/python3.7/dist-packages (from notebook>=6.0.3->modin-spreadsheet>=0.1.0; extra == \"all\"->modin[all]) (20.1.0)\n",
            "Requirement already satisfied: jupyter-client>=5.3.4 in /usr/local/lib/python3.7/dist-packages (from notebook>=6.0.3->modin-spreadsheet>=0.1.0; extra == \"all\"->modin[all]) (5.3.5)\n",
            "Requirement already satisfied: traitlets>=4.2.1 in /usr/local/lib/python3.7/dist-packages (from notebook>=6.0.3->modin-spreadsheet>=0.1.0; extra == \"all\"->modin[all]) (5.0.5)\n",
            "Requirement already satisfied: Send2Trash>=1.5.0 in /usr/local/lib/python3.7/dist-packages (from notebook>=6.0.3->modin-spreadsheet>=0.1.0; extra == \"all\"->modin[all]) (1.5.0)\n",
            "Requirement already satisfied: terminado>=0.8.3 in /usr/local/lib/python3.7/dist-packages (from notebook>=6.0.3->modin-spreadsheet>=0.1.0; extra == \"all\"->modin[all]) (0.9.3)\n",
            "Requirement already satisfied: nbformat in /usr/local/lib/python3.7/dist-packages (from notebook>=6.0.3->modin-spreadsheet>=0.1.0; extra == \"all\"->modin[all]) (5.1.2)\n",
            "Requirement already satisfied: jinja2 in /usr/local/lib/python3.7/dist-packages (from notebook>=6.0.3->modin-spreadsheet>=0.1.0; extra == \"all\"->modin[all]) (2.11.3)\n",
            "Requirement already satisfied: widgetsnbextension~=3.5.0 in /usr/local/lib/python3.7/dist-packages (from ipywidgets>=7.0.0->modin-spreadsheet>=0.1.0; extra == \"all\"->modin[all]) (3.5.1)\n",
            "Requirement already satisfied: jupyterlab-widgets>=1.0.0; python_version >= \"3.6\" in /usr/local/lib/python3.7/dist-packages (from ipywidgets>=7.0.0->modin-spreadsheet>=0.1.0; extra == \"all\"->modin[all]) (1.0.0)\n",
            "Requirement already satisfied: ipython>=4.0.0; python_version >= \"3.3\" in /usr/local/lib/python3.7/dist-packages (from ipywidgets>=7.0.0->modin-spreadsheet>=0.1.0; extra == \"all\"->modin[all]) (5.5.0)\n",
            "Requirement already satisfied: qtconsole in /usr/local/lib/python3.7/dist-packages (from jupyter>=1.0.0->modin-spreadsheet>=0.1.0; extra == \"all\"->modin[all]) (5.0.3)\n",
            "Requirement already satisfied: jupyter-console in /usr/local/lib/python3.7/dist-packages (from jupyter>=1.0.0->modin-spreadsheet>=0.1.0; extra == \"all\"->modin[all]) (5.2.0)\n",
            "Requirement already satisfied: googleapis-common-protos<2.0dev,>=1.6.0 in /usr/local/lib/python3.7/dist-packages (from google-api-core<2.0.0,>=1.0.0->opencensus->ray<1.2.0,>=1.0.0; extra == \"all\"->modin[all]) (1.53.0)\n",
            "Requirement already satisfied: google-auth<2.0dev,>=1.21.1 in /usr/local/lib/python3.7/dist-packages (from google-api-core<2.0.0,>=1.0.0->opencensus->ray<1.2.0,>=1.0.0; extra == \"all\"->modin[all]) (1.28.0)\n",
            "Requirement already satisfied: defusedxml in /usr/local/lib/python3.7/dist-packages (from nbconvert->notebook>=6.0.3->modin-spreadsheet>=0.1.0; extra == \"all\"->modin[all]) (0.7.1)\n",
            "Requirement already satisfied: pygments in /usr/local/lib/python3.7/dist-packages (from nbconvert->notebook>=6.0.3->modin-spreadsheet>=0.1.0; extra == \"all\"->modin[all]) (2.6.1)\n",
            "Requirement already satisfied: entrypoints>=0.2.2 in /usr/local/lib/python3.7/dist-packages (from nbconvert->notebook>=6.0.3->modin-spreadsheet>=0.1.0; extra == \"all\"->modin[all]) (0.3)\n",
            "Requirement already satisfied: bleach in /usr/local/lib/python3.7/dist-packages (from nbconvert->notebook>=6.0.3->modin-spreadsheet>=0.1.0; extra == \"all\"->modin[all]) (3.3.0)\n",
            "Requirement already satisfied: pandocfilters>=1.4.1 in /usr/local/lib/python3.7/dist-packages (from nbconvert->notebook>=6.0.3->modin-spreadsheet>=0.1.0; extra == \"all\"->modin[all]) (1.4.3)\n",
            "Requirement already satisfied: testpath in /usr/local/lib/python3.7/dist-packages (from nbconvert->notebook>=6.0.3->modin-spreadsheet>=0.1.0; extra == \"all\"->modin[all]) (0.4.4)\n",
            "Requirement already satisfied: mistune<2,>=0.8.1 in /usr/local/lib/python3.7/dist-packages (from nbconvert->notebook>=6.0.3->modin-spreadsheet>=0.1.0; extra == \"all\"->modin[all]) (0.8.4)\n",
            "Requirement already satisfied: cffi>=1.0.0 in /usr/local/lib/python3.7/dist-packages (from argon2-cffi->notebook>=6.0.3->modin-spreadsheet>=0.1.0; extra == \"all\"->modin[all]) (1.14.5)\n",
            "Requirement already satisfied: ptyprocess; os_name != \"nt\" in /usr/local/lib/python3.7/dist-packages (from terminado>=0.8.3->notebook>=6.0.3->modin-spreadsheet>=0.1.0; extra == \"all\"->modin[all]) (0.7.0)\n",
            "Requirement already satisfied: MarkupSafe>=0.23 in /usr/local/lib/python3.7/dist-packages (from jinja2->notebook>=6.0.3->modin-spreadsheet>=0.1.0; extra == \"all\"->modin[all]) (1.1.1)\n",
            "Requirement already satisfied: pickleshare in /usr/local/lib/python3.7/dist-packages (from ipython>=4.0.0; python_version >= \"3.3\"->ipywidgets>=7.0.0->modin-spreadsheet>=0.1.0; extra == \"all\"->modin[all]) (0.7.5)\n",
            "Requirement already satisfied: decorator in /usr/local/lib/python3.7/dist-packages (from ipython>=4.0.0; python_version >= \"3.3\"->ipywidgets>=7.0.0->modin-spreadsheet>=0.1.0; extra == \"all\"->modin[all]) (4.4.2)\n",
            "Requirement already satisfied: simplegeneric>0.8 in /usr/local/lib/python3.7/dist-packages (from ipython>=4.0.0; python_version >= \"3.3\"->ipywidgets>=7.0.0->modin-spreadsheet>=0.1.0; extra == \"all\"->modin[all]) (0.8.1)\n",
            "Requirement already satisfied: prompt-toolkit<2.0.0,>=1.0.4 in /usr/local/lib/python3.7/dist-packages (from ipython>=4.0.0; python_version >= \"3.3\"->ipywidgets>=7.0.0->modin-spreadsheet>=0.1.0; extra == \"all\"->modin[all]) (1.0.18)\n",
            "Requirement already satisfied: pexpect; sys_platform != \"win32\" in /usr/local/lib/python3.7/dist-packages (from ipython>=4.0.0; python_version >= \"3.3\"->ipywidgets>=7.0.0->modin-spreadsheet>=0.1.0; extra == \"all\"->modin[all]) (4.8.0)\n",
            "Requirement already satisfied: qtpy in /usr/local/lib/python3.7/dist-packages (from qtconsole->jupyter>=1.0.0->modin-spreadsheet>=0.1.0; extra == \"all\"->modin[all]) (1.9.0)\n",
            "Requirement already satisfied: pyasn1-modules>=0.2.1 in /usr/local/lib/python3.7/dist-packages (from google-auth<2.0dev,>=1.21.1->google-api-core<2.0.0,>=1.0.0->opencensus->ray<1.2.0,>=1.0.0; extra == \"all\"->modin[all]) (0.2.8)\n",
            "Requirement already satisfied: rsa<5,>=3.1.4; python_version >= \"3.6\" in /usr/local/lib/python3.7/dist-packages (from google-auth<2.0dev,>=1.21.1->google-api-core<2.0.0,>=1.0.0->opencensus->ray<1.2.0,>=1.0.0; extra == \"all\"->modin[all]) (4.7.2)\n",
            "Requirement already satisfied: cachetools<5.0,>=2.0.0 in /usr/local/lib/python3.7/dist-packages (from google-auth<2.0dev,>=1.21.1->google-api-core<2.0.0,>=1.0.0->opencensus->ray<1.2.0,>=1.0.0; extra == \"all\"->modin[all]) (4.2.1)\n",
            "Requirement already satisfied: webencodings in /usr/local/lib/python3.7/dist-packages (from bleach->nbconvert->notebook>=6.0.3->modin-spreadsheet>=0.1.0; extra == \"all\"->modin[all]) (0.5.1)\n",
            "Requirement already satisfied: pycparser in /usr/local/lib/python3.7/dist-packages (from cffi>=1.0.0->argon2-cffi->notebook>=6.0.3->modin-spreadsheet>=0.1.0; extra == \"all\"->modin[all]) (2.20)\n",
            "Requirement already satisfied: wcwidth in /usr/local/lib/python3.7/dist-packages (from prompt-toolkit<2.0.0,>=1.0.4->ipython>=4.0.0; python_version >= \"3.3\"->ipywidgets>=7.0.0->modin-spreadsheet>=0.1.0; extra == \"all\"->modin[all]) (0.2.5)\n",
            "Requirement already satisfied: pyasn1<0.5.0,>=0.4.6 in /usr/local/lib/python3.7/dist-packages (from pyasn1-modules>=0.2.1->google-auth<2.0dev,>=1.21.1->google-api-core<2.0.0,>=1.0.0->opencensus->ray<1.2.0,>=1.0.0; extra == \"all\"->modin[all]) (0.4.8)\n",
            "Building wheels for collected packages: gpustat\n",
            "  Building wheel for gpustat (setup.py) ... \u001b[?25l\u001b[?25hdone\n",
            "  Created wheel for gpustat: filename=gpustat-0.6.0-cp37-none-any.whl size=12621 sha256=63101e5d5f40937818c5fc820e717887f0d04f5af56d9f97ae90fb6f31f96fc5\n",
            "  Stored in directory: /root/.cache/pip/wheels/48/b4/d5/fb5b7f1d040f2ff20687e3bad6867d63155dbde5a7c10f4293\n",
            "Successfully built gpustat\n",
            "\u001b[31mERROR: notebook 6.3.0 has requirement tornado>=6.1, but you'll have tornado 5.1.1 which is incompatible.\u001b[0m\n",
            "\u001b[31mERROR: google-colab 1.0.0 has requirement notebook~=5.3.0; python_version >= \"3.0\", but you'll have notebook 6.3.0 which is incompatible.\u001b[0m\n",
            "\u001b[31mERROR: google-colab 1.0.0 has requirement pandas~=1.1.0; python_version >= \"3.0\", but you'll have pandas 1.2.3 which is incompatible.\u001b[0m\n",
            "Installing collected packages: plumbum, rpyc, cloudpickle, distributed, pyarrow, py-spy, hiredis, async-timeout, aioredis, opencensus-context, opencensus, multidict, yarl, aiohttp, blessings, gpustat, colorama, redis, aiohttp-cors, colorful, ray, jmespath, botocore, s3transfer, boto3, notebook, modin-spreadsheet\n",
            "  Found existing installation: cloudpickle 1.3.0\n",
            "    Uninstalling cloudpickle-1.3.0:\n",
            "      Successfully uninstalled cloudpickle-1.3.0\n",
            "  Found existing installation: distributed 1.25.3\n",
            "    Uninstalling distributed-1.25.3:\n",
            "      Successfully uninstalled distributed-1.25.3\n",
            "  Found existing installation: pyarrow 3.0.0\n",
            "    Uninstalling pyarrow-3.0.0:\n",
            "      Successfully uninstalled pyarrow-3.0.0\n",
            "  Found existing installation: notebook 5.3.1\n",
            "    Uninstalling notebook-5.3.1:\n",
            "      Successfully uninstalled notebook-5.3.1\n",
            "Successfully installed aiohttp-3.7.4.post0 aiohttp-cors-0.7.0 aioredis-1.3.1 async-timeout-3.0.1 blessings-1.7 boto3-1.4.8 botocore-1.8.50 cloudpickle-1.4.1 colorama-0.4.4 colorful-0.5.4 distributed-2.19.0 gpustat-0.6.0 hiredis-2.0.0 jmespath-0.10.0 modin-spreadsheet-0.1.1 multidict-5.1.0 notebook-6.3.0 opencensus-0.7.12 opencensus-context-0.1.2 plumbum-1.7.0 py-spy-0.3.5 pyarrow-1.0.0 ray-1.1.0 redis-3.5.3 rpyc-4.1.5 s3transfer-0.1.13 yarl-1.6.3\n"
          ],
          "name": "stdout"
        }
      ]
    },
    {
      "cell_type": "code",
      "metadata": {
        "id": "5hqMEZ4OFUZH"
      },
      "source": [
        "import pandas as pd\n",
        "import modin.pandas as mpd\n",
        "import dask.dataframe as dd\n",
        "import time"
      ],
      "execution_count": 1,
      "outputs": []
    },
    {
      "cell_type": "code",
      "metadata": {
        "id": "qjTmQ1MjF6n-"
      },
      "source": [
        "def readPandas(file):\n",
        "  start = time.time()\n",
        "  dfp = df_pd=pd.read_csv(file)\n",
        "  end = time.time()\n",
        "  pandastimetaken = end-start\n",
        "  print(f\"Modin Appending Time :{pandastimetaken}\")\n",
        "  return pandastimetaken"
      ],
      "execution_count": 2,
      "outputs": []
    },
    {
      "cell_type": "code",
      "metadata": {
        "id": "HlZphR6gGzgQ"
      },
      "source": [
        "\n",
        "def readModin(file):\n",
        "  start = time.time()\n",
        "  mpd.read_csv(file)\n",
        "  end = time.time()\n",
        "  modintimetaken = end-start\n",
        "  print(f\"Modin Appending Time :{modintimetaken}\")\n",
        "  return modintimetaken"
      ],
      "execution_count": 3,
      "outputs": []
    },
    {
      "cell_type": "code",
      "metadata": {
        "id": "1PnXFyV2Hu5t"
      },
      "source": [
        "def readDask(file):\n",
        "  start = time.time()\n",
        "  dd.read_csv(file)\n",
        "  end = time.time()\n",
        "  dasktimetaken = end-start\n",
        "  print(f\"Modin Appending Time :{dasktimetaken}\")\n",
        "  return dasktimetaken"
      ],
      "execution_count": 4,
      "outputs": []
    },
    {
      "cell_type": "code",
      "metadata": {
        "id": "K4OJ5rH1WFJ8"
      },
      "source": [
        "import matplotlib.pyplot as plt\n",
        "import seaborn as sns\n",
        "import numpy as np"
      ],
      "execution_count": 5,
      "outputs": []
    },
    {
      "cell_type": "code",
      "metadata": {
        "colab": {
          "base_uri": "https://localhost:8080/",
          "height": 702
        },
        "id": "nlZnQNTlWm3u",
        "outputId": "0f6069bc-fdb0-4c41-9160-f33fdaa83225"
      },
      "source": [
        "# Plots styles.\n",
        "plt.style.use('ggplot')\n",
        "filename = 'Final_Cab_Data_Combined.csv'\n",
        "# Plot size.\n",
        "plt.rcParams['figure.figsize'] = (14, 10)\n",
        "y = readPandas(filename),readModin(filename),readDask(filename)\n",
        "x = np.array([\"Pandas\", \"Modin\", \"Dask\"])\n",
        "for i in range(len(x)):\n",
        "        plt.text(i,y[i],y[i])\n",
        "plt.bar(x,y)\n",
        "plt.ylabel('time in seconds')\n",
        "plt.title(\"Time taken to read the same file\")\n",
        "plt.xlabel(\"computational efficiency\")\n",
        "plt.show()"
      ],
      "execution_count": 6,
      "outputs": [
        {
          "output_type": "stream",
          "text": [
            "Modin Appending Time :0.2978808879852295\n"
          ],
          "name": "stdout"
        },
        {
          "output_type": "stream",
          "text": [
            "UserWarning: Ray execution environment not yet initialized. Initializing...\n",
            "To remove this warning, run the following python code before doing dataframe operations:\n",
            "\n",
            "    import ray\n",
            "    ray.init()\n",
            "\n"
          ],
          "name": "stderr"
        },
        {
          "output_type": "stream",
          "text": [
            "Modin Appending Time :4.372511625289917\n",
            "Modin Appending Time :0.01567387580871582\n"
          ],
          "name": "stdout"
        },
        {
          "output_type": "display_data",
          "data": {
            "image/png": "[encoded data removed]",
            "text/plain": [
              "<Figure size 1008x720 with 1 Axes>"
            ]
          },
          "metadata": {
            "tags": []
          }
        }
      ]
    },
    {
      "cell_type": "markdown",
      "metadata": {
        "id": "YAOogQdaZver"
      },
      "source": [
        "The above figure shows the speed of reading a large file.<br>\n",
        "\n",
        "\n",
        "*   It can be seen that the Dask is exponetaily faster than Pandas."
      ]
    },
    {
      "cell_type": "code",
      "metadata": {
        "id": "gyhuBnjrn4j1"
      },
      "source": [
        ""
      ],
      "execution_count": null,
      "outputs": []
    },
    {
      "cell_type": "markdown",
      "metadata": {
        "id": "UnNukQdXoL00"
      },
      "source": [
        "\n",
        "Do some validation<br>\n",
        "Here's how its done:<br>\n",
        "  Step 1: install pandas_schema<br>\n",
        "  For this we can simply do pip install pandas_schema<br>\n",
        "  Step 2: define some simple type checking methods<br>\n",
        "  We will read a csv file. For a simple demonstration we will just consider simple validation rules, such as checking if a type is null, integer or decimal, but using pandas_schema we can do also more complex stuff"
      ]
    },
    {
      "cell_type": "code",
      "metadata": {
        "colab": {
          "base_uri": "https://localhost:8080/"
        },
        "id": "nQFPmZz2osAz",
        "outputId": "34f6a262-3d21-422e-c249-131e0ee40707"
      },
      "source": [
        "pip install pandas_schema"
      ],
      "execution_count": 7,
      "outputs": [
        {
          "output_type": "stream",
          "text": [
            "Collecting pandas_schema\n",
            "  Downloading https://files.pythonhosted.org/packages/9c/03/6d87ce8719dc57e44688096c05fb0efa61a08c6838816c9d991b1ece5b24/pandas_schema-0.3.5-py3-none-any.whl\n",
            "Requirement already satisfied: pandas>=0.19 in /usr/local/lib/python3.7/dist-packages (from pandas_schema) (1.2.3)\n",
            "Requirement already satisfied: numpy in /usr/local/lib/python3.7/dist-packages (from pandas_schema) (1.19.5)\n",
            "Requirement already satisfied: python-dateutil>=2.7.3 in /usr/local/lib/python3.7/dist-packages (from pandas>=0.19->pandas_schema) (2.8.1)\n",
            "Requirement already satisfied: pytz>=2017.3 in /usr/local/lib/python3.7/dist-packages (from pandas>=0.19->pandas_schema) (2018.9)\n",
            "Requirement already satisfied: six>=1.5 in /usr/local/lib/python3.7/dist-packages (from python-dateutil>=2.7.3->pandas>=0.19->pandas_schema) (1.15.0)\n",
            "Installing collected packages: pandas-schema\n",
            "Successfully installed pandas-schema-0.3.5\n"
          ],
          "name": "stdout"
        }
      ]
    },
    {
      "cell_type": "code",
      "metadata": {
        "id": "vCxsnFAfecCM"
      },
      "source": [
        "import pandas as pd\n",
        "from io import StringIO\n",
        "from pandas_schema import Column, Schema\n",
        "from pandas_schema.validation import LeadingWhitespaceValidation, TrailingWhitespaceValidation, CanConvertValidation, MatchesPatternValidation, InRangeValidation, InListValidation"
      ],
      "execution_count": 22,
      "outputs": []
    },
    {
      "cell_type": "code",
      "metadata": {
        "id": "yHH_0-63b002"
      },
      "source": [
        "schema = Schema([\n",
        "    Column('Transaction ID', [MatchesPatternValidation(r'\\d{10}')]),\n",
        "    Column('Date of Travel', [LeadingWhitespaceValidation(), TrailingWhitespaceValidation()]),\n",
        "    Column('Company', [LeadingWhitespaceValidation(), TrailingWhitespaceValidation()]),\n",
        "    #Column('Age', [InRangeValidation(0, 120)]),\n",
        "    Column('CITY', [LeadingWhitespaceValidation(), TrailingWhitespaceValidation()]),\n",
        "    Column('KM Travelled', [LeadingWhitespaceValidation(), TrailingWhitespaceValidation()]),\n",
        "    Column('Price Charged',[LeadingWhitespaceValidation(), TrailingWhitespaceValidation()]),\n",
        "    Column('Cost of Trip', [LeadingWhitespaceValidation(), TrailingWhitespaceValidation()]),\n",
        "    Column('Customer ID', [LeadingWhitespaceValidation(), TrailingWhitespaceValidation()]),\n",
        "    Column('Payment_Mode', [LeadingWhitespaceValidation(), TrailingWhitespaceValidation()]),\n",
        "    Column('Gender', [LeadingWhitespaceValidation(), TrailingWhitespaceValidation()]),\n",
        "    Column('Age', [LeadingWhitespaceValidation(), TrailingWhitespaceValidation()]),\n",
        "    Column('Income (USD/Month)', [LeadingWhitespaceValidation(), TrailingWhitespaceValidation()]),\n",
        "    Column('Population', [LeadingWhitespaceValidation(), TrailingWhitespaceValidation()]),\n",
        "    Column('Users', [LeadingWhitespaceValidation(), TrailingWhitespaceValidation()]),\n",
        "    #Column('Sex', [InListValidation(['Male', 'Female', 'Other'])]),\n",
        "    #Column('Customer ID', [MatchesPatternValidation(r'\\d{4}[A-Z]{4}')])\n",
        "])"
      ],
      "execution_count": 51,
      "outputs": []
    },
    {
      "cell_type": "code",
      "metadata": {
        "id": "G53ajUT5em7k",
        "outputId": "5409b94a-00dd-4c54-b9b7-51c7308aa610",
        "colab": {
          "base_uri": "https://localhost:8080/",
          "height": 361
        }
      },
      "source": [
        "    errors = schema.validate(df)\n",
        "    for error in errors:\n",
        "      print(error)"
      ],
      "execution_count": 54,
      "outputs": [
        {
          "output_type": "error",
          "ename": "KeyboardInterrupt",
          "evalue": "ignored",
          "traceback": [
            "\u001b[0;31m---------------------------------------------------------------------------\u001b[0m",
            "\u001b[0;31mKeyboardInterrupt\u001b[0m                         Traceback (most recent call last)",
            "\u001b[0;32m<ipython-input-54-ab80f34eb93f>\u001b[0m in \u001b[0;36m<module>\u001b[0;34m()\u001b[0m\n\u001b[0;32m----> 1\u001b[0;31m \u001b[0merrors\u001b[0m \u001b[0;34m=\u001b[0m \u001b[0mschema\u001b[0m\u001b[0;34m.\u001b[0m\u001b[0mvalidate\u001b[0m\u001b[0;34m(\u001b[0m\u001b[0mdf\u001b[0m\u001b[0;34m)\u001b[0m\u001b[0;34m\u001b[0m\u001b[0;34m\u001b[0m\u001b[0m\n\u001b[0m\u001b[1;32m      2\u001b[0m \u001b[0;32mfor\u001b[0m \u001b[0merror\u001b[0m \u001b[0;32min\u001b[0m \u001b[0merrors\u001b[0m\u001b[0;34m:\u001b[0m\u001b[0;34m\u001b[0m\u001b[0;34m\u001b[0m\u001b[0m\n\u001b[1;32m      3\u001b[0m   \u001b[0mprint\u001b[0m\u001b[0;34m(\u001b[0m\u001b[0merror\u001b[0m\u001b[0;34m)\u001b[0m\u001b[0;34m\u001b[0m\u001b[0;34m\u001b[0m\u001b[0m\n",
            "\u001b[0;32m/usr/local/lib/python3.7/dist-packages/pandas_schema/schema.py\u001b[0m in \u001b[0;36mvalidate\u001b[0;34m(self, df, columns)\u001b[0m\n\u001b[1;32m     83\u001b[0m         \u001b[0;31m# Iterate over each pair of schema columns and data frame series and run validations\u001b[0m\u001b[0;34m\u001b[0m\u001b[0;34m\u001b[0m\u001b[0;34m\u001b[0m\u001b[0m\n\u001b[1;32m     84\u001b[0m         \u001b[0;32mfor\u001b[0m \u001b[0mseries\u001b[0m\u001b[0;34m,\u001b[0m \u001b[0mcolumn\u001b[0m \u001b[0;32min\u001b[0m \u001b[0mcolumn_pairs\u001b[0m\u001b[0;34m:\u001b[0m\u001b[0;34m\u001b[0m\u001b[0;34m\u001b[0m\u001b[0m\n\u001b[0;32m---> 85\u001b[0;31m             \u001b[0merrors\u001b[0m \u001b[0;34m+=\u001b[0m \u001b[0mcolumn\u001b[0m\u001b[0;34m.\u001b[0m\u001b[0mvalidate\u001b[0m\u001b[0;34m(\u001b[0m\u001b[0mseries\u001b[0m\u001b[0;34m)\u001b[0m\u001b[0;34m\u001b[0m\u001b[0;34m\u001b[0m\u001b[0m\n\u001b[0m\u001b[1;32m     86\u001b[0m \u001b[0;34m\u001b[0m\u001b[0m\n\u001b[1;32m     87\u001b[0m         \u001b[0;32mreturn\u001b[0m \u001b[0msorted\u001b[0m\u001b[0;34m(\u001b[0m\u001b[0merrors\u001b[0m\u001b[0;34m,\u001b[0m \u001b[0mkey\u001b[0m\u001b[0;34m=\u001b[0m\u001b[0;32mlambda\u001b[0m \u001b[0me\u001b[0m\u001b[0;34m:\u001b[0m \u001b[0me\u001b[0m\u001b[0;34m.\u001b[0m\u001b[0mrow\u001b[0m\u001b[0;34m)\u001b[0m\u001b[0;34m\u001b[0m\u001b[0;34m\u001b[0m\u001b[0m\n",
            "\u001b[0;32m/usr/local/lib/python3.7/dist-packages/pandas_schema/column.py\u001b[0m in \u001b[0;36mvalidate\u001b[0;34m(self, series)\u001b[0m\n\u001b[1;32m     25\u001b[0m         \u001b[0;34m:\u001b[0m\u001b[0;32mreturn\u001b[0m\u001b[0;34m:\u001b[0m \u001b[0mAn\u001b[0m \u001b[0miterable\u001b[0m \u001b[0mof\u001b[0m \u001b[0mValidationError\u001b[0m \u001b[0minstances\u001b[0m \u001b[0mgenerated\u001b[0m \u001b[0mby\u001b[0m \u001b[0mthe\u001b[0m \u001b[0mvalidation\u001b[0m\u001b[0;34m\u001b[0m\u001b[0;34m\u001b[0m\u001b[0m\n\u001b[1;32m     26\u001b[0m         \"\"\"\n\u001b[0;32m---> 27\u001b[0;31m         \u001b[0;32mreturn\u001b[0m \u001b[0;34m[\u001b[0m\u001b[0merror\u001b[0m \u001b[0;32mfor\u001b[0m \u001b[0mvalidation\u001b[0m \u001b[0;32min\u001b[0m \u001b[0mself\u001b[0m\u001b[0;34m.\u001b[0m\u001b[0mvalidations\u001b[0m \u001b[0;32mfor\u001b[0m \u001b[0merror\u001b[0m \u001b[0;32min\u001b[0m \u001b[0mvalidation\u001b[0m\u001b[0;34m.\u001b[0m\u001b[0mget_errors\u001b[0m\u001b[0;34m(\u001b[0m\u001b[0mseries\u001b[0m\u001b[0;34m,\u001b[0m \u001b[0mself\u001b[0m\u001b[0;34m)\u001b[0m\u001b[0;34m]\u001b[0m\u001b[0;34m\u001b[0m\u001b[0;34m\u001b[0m\u001b[0m\n\u001b[0m",
            "\u001b[0;32m/usr/local/lib/python3.7/dist-packages/pandas_schema/column.py\u001b[0m in \u001b[0;36m<listcomp>\u001b[0;34m(.0)\u001b[0m\n\u001b[1;32m     25\u001b[0m         \u001b[0;34m:\u001b[0m\u001b[0;32mreturn\u001b[0m\u001b[0;34m:\u001b[0m \u001b[0mAn\u001b[0m \u001b[0miterable\u001b[0m \u001b[0mof\u001b[0m \u001b[0mValidationError\u001b[0m \u001b[0minstances\u001b[0m \u001b[0mgenerated\u001b[0m \u001b[0mby\u001b[0m \u001b[0mthe\u001b[0m \u001b[0mvalidation\u001b[0m\u001b[0;34m\u001b[0m\u001b[0;34m\u001b[0m\u001b[0m\n\u001b[1;32m     26\u001b[0m         \"\"\"\n\u001b[0;32m---> 27\u001b[0;31m         \u001b[0;32mreturn\u001b[0m \u001b[0;34m[\u001b[0m\u001b[0merror\u001b[0m \u001b[0;32mfor\u001b[0m \u001b[0mvalidation\u001b[0m \u001b[0;32min\u001b[0m \u001b[0mself\u001b[0m\u001b[0;34m.\u001b[0m\u001b[0mvalidations\u001b[0m \u001b[0;32mfor\u001b[0m \u001b[0merror\u001b[0m \u001b[0;32min\u001b[0m \u001b[0mvalidation\u001b[0m\u001b[0;34m.\u001b[0m\u001b[0mget_errors\u001b[0m\u001b[0;34m(\u001b[0m\u001b[0mseries\u001b[0m\u001b[0;34m,\u001b[0m \u001b[0mself\u001b[0m\u001b[0;34m)\u001b[0m\u001b[0;34m]\u001b[0m\u001b[0;34m\u001b[0m\u001b[0;34m\u001b[0m\u001b[0m\n\u001b[0m",
            "\u001b[0;32m/usr/local/lib/python3.7/dist-packages/pandas_schema/validation.py\u001b[0m in \u001b[0;36mget_errors\u001b[0;34m(self, series, column)\u001b[0m\n\u001b[1;32m     83\u001b[0m         \u001b[0;31m# Calculate which columns are valid using the child class's validate function, skipping empty entries if the\u001b[0m\u001b[0;34m\u001b[0m\u001b[0;34m\u001b[0m\u001b[0;34m\u001b[0m\u001b[0m\n\u001b[1;32m     84\u001b[0m         \u001b[0;31m# column specifies to do so\u001b[0m\u001b[0;34m\u001b[0m\u001b[0;34m\u001b[0m\u001b[0;34m\u001b[0m\u001b[0m\n\u001b[0;32m---> 85\u001b[0;31m         \u001b[0msimple_validation\u001b[0m \u001b[0;34m=\u001b[0m \u001b[0;34m~\u001b[0m\u001b[0mself\u001b[0m\u001b[0;34m.\u001b[0m\u001b[0mvalidate\u001b[0m\u001b[0;34m(\u001b[0m\u001b[0mseries\u001b[0m\u001b[0;34m)\u001b[0m\u001b[0;34m\u001b[0m\u001b[0;34m\u001b[0m\u001b[0m\n\u001b[0m\u001b[1;32m     86\u001b[0m         \u001b[0;32mif\u001b[0m \u001b[0mcolumn\u001b[0m\u001b[0;34m.\u001b[0m\u001b[0mallow_empty\u001b[0m\u001b[0;34m:\u001b[0m\u001b[0;34m\u001b[0m\u001b[0;34m\u001b[0m\u001b[0m\n\u001b[1;32m     87\u001b[0m             \u001b[0;31m# Failing results are those that are not empty, and fail the validation\u001b[0m\u001b[0;34m\u001b[0m\u001b[0;34m\u001b[0m\u001b[0;34m\u001b[0m\u001b[0m\n",
            "\u001b[0;32m/usr/local/lib/python3.7/dist-packages/pandas_schema/validation.py\u001b[0m in \u001b[0;36mvalidate\u001b[0;34m(self, series)\u001b[0m\n\u001b[1;32m    346\u001b[0m \u001b[0;34m\u001b[0m\u001b[0m\n\u001b[1;32m    347\u001b[0m     \u001b[0;32mdef\u001b[0m \u001b[0mvalidate\u001b[0m\u001b[0;34m(\u001b[0m\u001b[0mself\u001b[0m\u001b[0;34m,\u001b[0m \u001b[0mseries\u001b[0m\u001b[0;34m:\u001b[0m \u001b[0mpd\u001b[0m\u001b[0;34m.\u001b[0m\u001b[0mSeries\u001b[0m\u001b[0;34m)\u001b[0m \u001b[0;34m->\u001b[0m \u001b[0mpd\u001b[0m\u001b[0;34m.\u001b[0m\u001b[0mSeries\u001b[0m\u001b[0;34m:\u001b[0m\u001b[0;34m\u001b[0m\u001b[0;34m\u001b[0m\u001b[0m\n\u001b[0;32m--> 348\u001b[0;31m         \u001b[0;32mreturn\u001b[0m \u001b[0;34m~\u001b[0m\u001b[0mseries\u001b[0m\u001b[0;34m.\u001b[0m\u001b[0mastype\u001b[0m\u001b[0;34m(\u001b[0m\u001b[0mstr\u001b[0m\u001b[0;34m)\u001b[0m\u001b[0;34m.\u001b[0m\u001b[0mstr\u001b[0m\u001b[0;34m.\u001b[0m\u001b[0mcontains\u001b[0m\u001b[0;34m(\u001b[0m\u001b[0;34m'^\\s+'\u001b[0m\u001b[0;34m)\u001b[0m\u001b[0;34m\u001b[0m\u001b[0;34m\u001b[0m\u001b[0m\n\u001b[0m\u001b[1;32m    349\u001b[0m \u001b[0;34m\u001b[0m\u001b[0m\n\u001b[1;32m    350\u001b[0m \u001b[0;34m\u001b[0m\u001b[0m\n",
            "\u001b[0;32m/usr/local/lib/python3.7/dist-packages/pandas/core/strings/accessor.py\u001b[0m in \u001b[0;36mwrapper\u001b[0;34m(self, *args, **kwargs)\u001b[0m\n\u001b[1;32m     99\u001b[0m                 )\n\u001b[1;32m    100\u001b[0m                 \u001b[0;32mraise\u001b[0m \u001b[0mTypeError\u001b[0m\u001b[0;34m(\u001b[0m\u001b[0mmsg\u001b[0m\u001b[0;34m)\u001b[0m\u001b[0;34m\u001b[0m\u001b[0;34m\u001b[0m\u001b[0m\n\u001b[0;32m--> 101\u001b[0;31m             \u001b[0;32mreturn\u001b[0m \u001b[0mfunc\u001b[0m\u001b[0;34m(\u001b[0m\u001b[0mself\u001b[0m\u001b[0;34m,\u001b[0m \u001b[0;34m*\u001b[0m\u001b[0margs\u001b[0m\u001b[0;34m,\u001b[0m \u001b[0;34m**\u001b[0m\u001b[0mkwargs\u001b[0m\u001b[0;34m)\u001b[0m\u001b[0;34m\u001b[0m\u001b[0;34m\u001b[0m\u001b[0m\n\u001b[0m\u001b[1;32m    102\u001b[0m \u001b[0;34m\u001b[0m\u001b[0m\n\u001b[1;32m    103\u001b[0m         \u001b[0mwrapper\u001b[0m\u001b[0;34m.\u001b[0m\u001b[0m__name__\u001b[0m \u001b[0;34m=\u001b[0m \u001b[0mfunc_name\u001b[0m\u001b[0;34m\u001b[0m\u001b[0;34m\u001b[0m\u001b[0m\n",
            "\u001b[0;32m/usr/local/lib/python3.7/dist-packages/pandas/core/strings/accessor.py\u001b[0m in \u001b[0;36mcontains\u001b[0;34m(self, pat, case, flags, na, regex)\u001b[0m\n\u001b[1;32m   1108\u001b[0m         \u001b[0mdtype\u001b[0m\u001b[0;34m:\u001b[0m \u001b[0mbool\u001b[0m\u001b[0;34m\u001b[0m\u001b[0;34m\u001b[0m\u001b[0m\n\u001b[1;32m   1109\u001b[0m         \"\"\"\n\u001b[0;32m-> 1110\u001b[0;31m         \u001b[0mresult\u001b[0m \u001b[0;34m=\u001b[0m \u001b[0mself\u001b[0m\u001b[0;34m.\u001b[0m\u001b[0m_data\u001b[0m\u001b[0;34m.\u001b[0m\u001b[0marray\u001b[0m\u001b[0;34m.\u001b[0m\u001b[0m_str_contains\u001b[0m\u001b[0;34m(\u001b[0m\u001b[0mpat\u001b[0m\u001b[0;34m,\u001b[0m \u001b[0mcase\u001b[0m\u001b[0;34m,\u001b[0m \u001b[0mflags\u001b[0m\u001b[0;34m,\u001b[0m \u001b[0mna\u001b[0m\u001b[0;34m,\u001b[0m \u001b[0mregex\u001b[0m\u001b[0;34m)\u001b[0m\u001b[0;34m\u001b[0m\u001b[0;34m\u001b[0m\u001b[0m\n\u001b[0m\u001b[1;32m   1111\u001b[0m         \u001b[0;32mreturn\u001b[0m \u001b[0mself\u001b[0m\u001b[0;34m.\u001b[0m\u001b[0m_wrap_result\u001b[0m\u001b[0;34m(\u001b[0m\u001b[0mresult\u001b[0m\u001b[0;34m,\u001b[0m \u001b[0mfill_value\u001b[0m\u001b[0;34m=\u001b[0m\u001b[0mna\u001b[0m\u001b[0;34m,\u001b[0m \u001b[0mreturns_string\u001b[0m\u001b[0;34m=\u001b[0m\u001b[0;32mFalse\u001b[0m\u001b[0;34m)\u001b[0m\u001b[0;34m\u001b[0m\u001b[0;34m\u001b[0m\u001b[0m\n\u001b[1;32m   1112\u001b[0m \u001b[0;34m\u001b[0m\u001b[0m\n",
            "\u001b[0;32m/usr/local/lib/python3.7/dist-packages/pandas/core/strings/object_array.py\u001b[0m in \u001b[0;36m_str_contains\u001b[0;34m(self, pat, case, flags, na, regex)\u001b[0m\n\u001b[1;32m    125\u001b[0m                 \u001b[0mupper_pat\u001b[0m \u001b[0;34m=\u001b[0m \u001b[0mpat\u001b[0m\u001b[0;34m.\u001b[0m\u001b[0mupper\u001b[0m\u001b[0;34m(\u001b[0m\u001b[0;34m)\u001b[0m\u001b[0;34m\u001b[0m\u001b[0;34m\u001b[0m\u001b[0m\n\u001b[1;32m    126\u001b[0m                 \u001b[0mf\u001b[0m \u001b[0;34m=\u001b[0m \u001b[0;32mlambda\u001b[0m \u001b[0mx\u001b[0m\u001b[0;34m:\u001b[0m \u001b[0mupper_pat\u001b[0m \u001b[0;32min\u001b[0m \u001b[0mx\u001b[0m\u001b[0;34m.\u001b[0m\u001b[0mupper\u001b[0m\u001b[0;34m(\u001b[0m\u001b[0;34m)\u001b[0m\u001b[0;34m\u001b[0m\u001b[0;34m\u001b[0m\u001b[0m\n\u001b[0;32m--> 127\u001b[0;31m         \u001b[0;32mreturn\u001b[0m \u001b[0mself\u001b[0m\u001b[0;34m.\u001b[0m\u001b[0m_str_map\u001b[0m\u001b[0;34m(\u001b[0m\u001b[0mf\u001b[0m\u001b[0;34m,\u001b[0m \u001b[0mna\u001b[0m\u001b[0;34m,\u001b[0m \u001b[0mdtype\u001b[0m\u001b[0;34m=\u001b[0m\u001b[0mnp\u001b[0m\u001b[0;34m.\u001b[0m\u001b[0mdtype\u001b[0m\u001b[0;34m(\u001b[0m\u001b[0;34m\"bool\"\u001b[0m\u001b[0;34m)\u001b[0m\u001b[0;34m)\u001b[0m\u001b[0;34m\u001b[0m\u001b[0;34m\u001b[0m\u001b[0m\n\u001b[0m\u001b[1;32m    128\u001b[0m \u001b[0;34m\u001b[0m\u001b[0m\n\u001b[1;32m    129\u001b[0m     \u001b[0;32mdef\u001b[0m \u001b[0m_str_startswith\u001b[0m\u001b[0;34m(\u001b[0m\u001b[0mself\u001b[0m\u001b[0;34m,\u001b[0m \u001b[0mpat\u001b[0m\u001b[0;34m,\u001b[0m \u001b[0mna\u001b[0m\u001b[0;34m=\u001b[0m\u001b[0;32mNone\u001b[0m\u001b[0;34m)\u001b[0m\u001b[0;34m:\u001b[0m\u001b[0;34m\u001b[0m\u001b[0;34m\u001b[0m\u001b[0m\n",
            "\u001b[0;32m/usr/local/lib/python3.7/dist-packages/pandas/core/strings/object_array.py\u001b[0m in \u001b[0;36m_str_map\u001b[0;34m(self, f, na_value, dtype)\u001b[0m\n\u001b[1;32m     59\u001b[0m         \u001b[0mconvert\u001b[0m \u001b[0;34m=\u001b[0m \u001b[0;32mnot\u001b[0m \u001b[0mnp\u001b[0m\u001b[0;34m.\u001b[0m\u001b[0mall\u001b[0m\u001b[0;34m(\u001b[0m\u001b[0mmask\u001b[0m\u001b[0;34m)\u001b[0m\u001b[0;34m\u001b[0m\u001b[0;34m\u001b[0m\u001b[0m\n\u001b[1;32m     60\u001b[0m         \u001b[0;32mtry\u001b[0m\u001b[0;34m:\u001b[0m\u001b[0;34m\u001b[0m\u001b[0;34m\u001b[0m\u001b[0m\n\u001b[0;32m---> 61\u001b[0;31m             \u001b[0mresult\u001b[0m \u001b[0;34m=\u001b[0m \u001b[0mlib\u001b[0m\u001b[0;34m.\u001b[0m\u001b[0mmap_infer_mask\u001b[0m\u001b[0;34m(\u001b[0m\u001b[0marr\u001b[0m\u001b[0;34m,\u001b[0m \u001b[0mf\u001b[0m\u001b[0;34m,\u001b[0m \u001b[0mmask\u001b[0m\u001b[0;34m.\u001b[0m\u001b[0mview\u001b[0m\u001b[0;34m(\u001b[0m\u001b[0mnp\u001b[0m\u001b[0;34m.\u001b[0m\u001b[0muint8\u001b[0m\u001b[0;34m)\u001b[0m\u001b[0;34m,\u001b[0m \u001b[0mconvert\u001b[0m\u001b[0;34m)\u001b[0m\u001b[0;34m\u001b[0m\u001b[0;34m\u001b[0m\u001b[0m\n\u001b[0m\u001b[1;32m     62\u001b[0m         \u001b[0;32mexcept\u001b[0m \u001b[0;34m(\u001b[0m\u001b[0mTypeError\u001b[0m\u001b[0;34m,\u001b[0m \u001b[0mAttributeError\u001b[0m\u001b[0;34m)\u001b[0m \u001b[0;32mas\u001b[0m \u001b[0me\u001b[0m\u001b[0;34m:\u001b[0m\u001b[0;34m\u001b[0m\u001b[0;34m\u001b[0m\u001b[0m\n\u001b[1;32m     63\u001b[0m             \u001b[0;31m# Reraise the exception if callable `f` got wrong number of args.\u001b[0m\u001b[0;34m\u001b[0m\u001b[0;34m\u001b[0m\u001b[0;34m\u001b[0m\u001b[0m\n",
            "\u001b[0;32mpandas/_libs/lib.pyx\u001b[0m in \u001b[0;36mpandas._libs.lib.map_infer_mask\u001b[0;34m()\u001b[0m\n",
            "\u001b[0;32m/usr/local/lib/python3.7/dist-packages/pandas/core/strings/object_array.py\u001b[0m in \u001b[0;36m<lambda>\u001b[0;34m(x)\u001b[0m\n\u001b[1;32m    118\u001b[0m                 )\n\u001b[1;32m    119\u001b[0m \u001b[0;34m\u001b[0m\u001b[0m\n\u001b[0;32m--> 120\u001b[0;31m             \u001b[0mf\u001b[0m \u001b[0;34m=\u001b[0m \u001b[0;32mlambda\u001b[0m \u001b[0mx\u001b[0m\u001b[0;34m:\u001b[0m \u001b[0mregex\u001b[0m\u001b[0;34m.\u001b[0m\u001b[0msearch\u001b[0m\u001b[0;34m(\u001b[0m\u001b[0mx\u001b[0m\u001b[0;34m)\u001b[0m \u001b[0;32mis\u001b[0m \u001b[0;32mnot\u001b[0m \u001b[0;32mNone\u001b[0m\u001b[0;34m\u001b[0m\u001b[0;34m\u001b[0m\u001b[0m\n\u001b[0m\u001b[1;32m    121\u001b[0m         \u001b[0;32melse\u001b[0m\u001b[0;34m:\u001b[0m\u001b[0;34m\u001b[0m\u001b[0;34m\u001b[0m\u001b[0m\n\u001b[1;32m    122\u001b[0m             \u001b[0;32mif\u001b[0m \u001b[0mcase\u001b[0m\u001b[0;34m:\u001b[0m\u001b[0;34m\u001b[0m\u001b[0;34m\u001b[0m\u001b[0m\n",
            "\u001b[0;31mKeyboardInterrupt\u001b[0m: "
          ]
        }
      ]
    },
    {
      "cell_type": "code",
      "metadata": {
        "id": "ze0UrgLyo3J3"
      },
      "source": [
        "def read_file(file):\n",
        "    df = pd.read_csv(file)\n",
        "    if(df.empty):\n",
        "      print('CSV file is empty')\n",
        "    else:\n",
        "      print('CSV file is not empty')\n",
        "    return df"
      ],
      "execution_count": 8,
      "outputs": []
    },
    {
      "cell_type": "code",
      "metadata": {
        "colab": {
          "base_uri": "https://localhost:8080/",
          "height": 606
        },
        "id": "qDfJYGjDKG6K",
        "outputId": "e74256a1-22a6-4a46-b7b1-f80e6393e466"
      },
      "source": [
        "read_file('Final_Cab_Data_Combined.csv')"
      ],
      "execution_count": 9,
      "outputs": [
        {
          "output_type": "stream",
          "text": [
            "CSV file is not empty\n"
          ],
          "name": "stdout"
        },
        {
          "output_type": "execute_result",
          "data": {
            "text/html": [
              "<div>\n",
              "<style scoped>\n",
              "    .dataframe tbody tr th:only-of-type {\n",
              "        vertical-align: middle;\n",
              "    }\n",
              "\n",
              "    .dataframe tbody tr th {\n",
              "        vertical-align: top;\n",
              "    }\n",
              "\n",
              "    .dataframe thead th {\n",
              "        text-align: right;\n",
              "    }\n",
              "</style>\n",
              "<table border=\"1\" class=\"dataframe\">\n",
              "  <thead>\n",
              "    <tr style=\"text-align: right;\">\n",
              "      <th></th>\n",
              "      <th>Transaction ID</th>\n",
              "      <th>Date of Travel</th>\n",
              "      <th>Company</th>\n",
              "      <th>CITY</th>\n",
              "      <th>KM Travelled</th>\n",
              "      <th>Price Charged</th>\n",
              "      <th>Cost of Trip</th>\n",
              "      <th>Customer ID</th>\n",
              "      <th>Payment_Mode</th>\n",
              "      <th>Gender</th>\n",
              "      <th>Age</th>\n",
              "      <th>Income (USD/Month)</th>\n",
              "      <th>Population</th>\n",
              "      <th>Users</th>\n",
              "    </tr>\n",
              "  </thead>\n",
              "  <tbody>\n",
              "    <tr>\n",
              "      <th>0</th>\n",
              "      <td>10000011</td>\n",
              "      <td>08/01/2016</td>\n",
              "      <td>Pink Cab</td>\n",
              "      <td>ATLANTA GA</td>\n",
              "      <td>30.45</td>\n",
              "      <td>370.95</td>\n",
              "      <td>313.635</td>\n",
              "      <td>29290.0</td>\n",
              "      <td>Card</td>\n",
              "      <td>Male</td>\n",
              "      <td>28.0</td>\n",
              "      <td>10813.0</td>\n",
              "      <td>814,885</td>\n",
              "      <td>24701.0</td>\n",
              "    </tr>\n",
              "    <tr>\n",
              "      <th>1</th>\n",
              "      <td>10000012</td>\n",
              "      <td>06/01/2016</td>\n",
              "      <td>Pink Cab</td>\n",
              "      <td>ATLANTA GA</td>\n",
              "      <td>28.62</td>\n",
              "      <td>358.52</td>\n",
              "      <td>334.854</td>\n",
              "      <td>27703.0</td>\n",
              "      <td>Card</td>\n",
              "      <td>Male</td>\n",
              "      <td>27.0</td>\n",
              "      <td>9237.0</td>\n",
              "      <td>814,885</td>\n",
              "      <td>24701.0</td>\n",
              "    </tr>\n",
              "    <tr>\n",
              "      <th>2</th>\n",
              "      <td>10000013</td>\n",
              "      <td>02/01/2016</td>\n",
              "      <td>Pink Cab</td>\n",
              "      <td>ATLANTA GA</td>\n",
              "      <td>9.04</td>\n",
              "      <td>125.20</td>\n",
              "      <td>97.632</td>\n",
              "      <td>28712.0</td>\n",
              "      <td>Cash</td>\n",
              "      <td>Male</td>\n",
              "      <td>53.0</td>\n",
              "      <td>11242.0</td>\n",
              "      <td>814,885</td>\n",
              "      <td>24701.0</td>\n",
              "    </tr>\n",
              "    <tr>\n",
              "      <th>3</th>\n",
              "      <td>10000014</td>\n",
              "      <td>07/01/2016</td>\n",
              "      <td>Pink Cab</td>\n",
              "      <td>ATLANTA GA</td>\n",
              "      <td>33.17</td>\n",
              "      <td>377.40</td>\n",
              "      <td>351.602</td>\n",
              "      <td>28020.0</td>\n",
              "      <td>Cash</td>\n",
              "      <td>Male</td>\n",
              "      <td>23.0</td>\n",
              "      <td>23327.0</td>\n",
              "      <td>814,885</td>\n",
              "      <td>24701.0</td>\n",
              "    </tr>\n",
              "    <tr>\n",
              "      <th>4</th>\n",
              "      <td>10000015</td>\n",
              "      <td>03/01/2016</td>\n",
              "      <td>Pink Cab</td>\n",
              "      <td>ATLANTA GA</td>\n",
              "      <td>8.73</td>\n",
              "      <td>114.62</td>\n",
              "      <td>97.776</td>\n",
              "      <td>27182.0</td>\n",
              "      <td>Card</td>\n",
              "      <td>Male</td>\n",
              "      <td>33.0</td>\n",
              "      <td>8536.0</td>\n",
              "      <td>814,885</td>\n",
              "      <td>24701.0</td>\n",
              "    </tr>\n",
              "    <tr>\n",
              "      <th>...</th>\n",
              "      <td>...</td>\n",
              "      <td>...</td>\n",
              "      <td>...</td>\n",
              "      <td>...</td>\n",
              "      <td>...</td>\n",
              "      <td>...</td>\n",
              "      <td>...</td>\n",
              "      <td>...</td>\n",
              "      <td>...</td>\n",
              "      <td>...</td>\n",
              "      <td>...</td>\n",
              "      <td>...</td>\n",
              "      <td>...</td>\n",
              "      <td>...</td>\n",
              "    </tr>\n",
              "    <tr>\n",
              "      <th>167087</th>\n",
              "      <td>10206256</td>\n",
              "      <td>13/08/2017</td>\n",
              "      <td>Pink Cab</td>\n",
              "      <td>SEATTLE WA</td>\n",
              "      <td>39.27</td>\n",
              "      <td>626.63</td>\n",
              "      <td>435.897</td>\n",
              "      <td>36512.0</td>\n",
              "      <td>Card</td>\n",
              "      <td>Male</td>\n",
              "      <td>27.0</td>\n",
              "      <td>8266.0</td>\n",
              "      <td>671,238</td>\n",
              "      <td>25063.0</td>\n",
              "    </tr>\n",
              "    <tr>\n",
              "      <th>167088</th>\n",
              "      <td>10206257</td>\n",
              "      <td>06/08/2017</td>\n",
              "      <td>Pink Cab</td>\n",
              "      <td>SEATTLE WA</td>\n",
              "      <td>10.60</td>\n",
              "      <td>169.21</td>\n",
              "      <td>117.660</td>\n",
              "      <td>37777.0</td>\n",
              "      <td>Card</td>\n",
              "      <td>Female</td>\n",
              "      <td>62.0</td>\n",
              "      <td>19882.0</td>\n",
              "      <td>671,238</td>\n",
              "      <td>25063.0</td>\n",
              "    </tr>\n",
              "    <tr>\n",
              "      <th>167089</th>\n",
              "      <td>10206258</td>\n",
              "      <td>12/08/2017</td>\n",
              "      <td>Pink Cab</td>\n",
              "      <td>SEATTLE WA</td>\n",
              "      <td>9.12</td>\n",
              "      <td>127.16</td>\n",
              "      <td>97.584</td>\n",
              "      <td>38332.0</td>\n",
              "      <td>Card</td>\n",
              "      <td>Male</td>\n",
              "      <td>45.0</td>\n",
              "      <td>19188.0</td>\n",
              "      <td>671,238</td>\n",
              "      <td>25063.0</td>\n",
              "    </tr>\n",
              "    <tr>\n",
              "      <th>167090</th>\n",
              "      <td>10206259</td>\n",
              "      <td>11/08/2017</td>\n",
              "      <td>Pink Cab</td>\n",
              "      <td>SEATTLE WA</td>\n",
              "      <td>16.64</td>\n",
              "      <td>268.10</td>\n",
              "      <td>194.688</td>\n",
              "      <td>37538.0</td>\n",
              "      <td>Cash</td>\n",
              "      <td>Male</td>\n",
              "      <td>59.0</td>\n",
              "      <td>29262.0</td>\n",
              "      <td>671,238</td>\n",
              "      <td>25063.0</td>\n",
              "    </tr>\n",
              "    <tr>\n",
              "      <th>167091</th>\n",
              "      <td>10206260</td>\n",
              "      <td>11</td>\n",
              "      <td>NaN</td>\n",
              "      <td>NaN</td>\n",
              "      <td>NaN</td>\n",
              "      <td>NaN</td>\n",
              "      <td>NaN</td>\n",
              "      <td>NaN</td>\n",
              "      <td>NaN</td>\n",
              "      <td>NaN</td>\n",
              "      <td>NaN</td>\n",
              "      <td>NaN</td>\n",
              "      <td>NaN</td>\n",
              "      <td>NaN</td>\n",
              "    </tr>\n",
              "  </tbody>\n",
              "</table>\n",
              "<p>167092 rows × 14 columns</p>\n",
              "</div>"
            ],
            "text/plain": [
              "        Transaction ID Date of Travel  ... Population    Users\n",
              "0             10000011     08/01/2016  ...    814,885  24701.0\n",
              "1             10000012     06/01/2016  ...    814,885  24701.0\n",
              "2             10000013     02/01/2016  ...    814,885  24701.0\n",
              "3             10000014     07/01/2016  ...    814,885  24701.0\n",
              "4             10000015     03/01/2016  ...    814,885  24701.0\n",
              "...                ...            ...  ...        ...      ...\n",
              "167087        10206256     13/08/2017  ...    671,238  25063.0\n",
              "167088        10206257     06/08/2017  ...    671,238  25063.0\n",
              "167089        10206258     12/08/2017  ...    671,238  25063.0\n",
              "167090        10206259     11/08/2017  ...    671,238  25063.0\n",
              "167091        10206260             11  ...        NaN      NaN\n",
              "\n",
              "[167092 rows x 14 columns]"
            ]
          },
          "metadata": {
            "tags": []
          },
          "execution_count": 9
        }
      ]
    },
    {
      "cell_type": "markdown",
      "metadata": {
        "id": "d4j4qAwLYNU2"
      },
      "source": [
        "# New Section"
      ]
    },
    {
      "cell_type": "code",
      "metadata": {
        "id": "m8Ge1PvsOS6I"
      },
      "source": [
        "df = pd.read_csv('Final_Cab_Data_Combined.csv')"
      ],
      "execution_count": 10,
      "outputs": []
    },
    {
      "cell_type": "code",
      "metadata": {
        "colab": {
          "base_uri": "https://localhost:8080/"
        },
        "id": "uX5bNIDhNwaa",
        "outputId": "a737aecc-9f10-46b7-df9d-339679629d5a"
      },
      "source": [
        "for dtype in df.dtypes.iteritems():\n",
        "    print(dtype)"
      ],
      "execution_count": 11,
      "outputs": [
        {
          "output_type": "stream",
          "text": [
            "('Transaction ID', dtype('int64'))\n",
            "('Date of Travel', dtype('O'))\n",
            "('Company', dtype('O'))\n",
            "('CITY', dtype('O'))\n",
            "('KM Travelled', dtype('float64'))\n",
            "('Price Charged', dtype('float64'))\n",
            "('Cost of Trip', dtype('float64'))\n",
            "('Customer ID', dtype('int64'))\n",
            "('Payment_Mode', dtype('O'))\n",
            "('Gender', dtype('O'))\n",
            "('Age', dtype('int64'))\n",
            "('Income (USD/Month)', dtype('int64'))\n",
            "('Population', dtype('O'))\n",
            "('Users', dtype('float64'))\n"
          ],
          "name": "stdout"
        }
      ]
    },
    {
      "cell_type": "code",
      "metadata": {
        "colab": {
          "base_uri": "https://localhost:8080/"
        },
        "id": "7vprjCCyhAX8",
        "outputId": "97868f67-b8ba-4fcf-986c-9d29813c6af2"
      },
      "source": [
        "print(df.dtypes)"
      ],
      "execution_count": 12,
      "outputs": [
        {
          "output_type": "stream",
          "text": [
            "Transaction ID          int64\n",
            "Date of Travel         object\n",
            "Company                object\n",
            "CITY                   object\n",
            "KM Travelled          float64\n",
            "Price Charged         float64\n",
            "Cost of Trip          float64\n",
            "Customer ID             int64\n",
            "Payment_Mode           object\n",
            "Gender                 object\n",
            "Age                     int64\n",
            "Income (USD/Month)      int64\n",
            "Population             object\n",
            "Users                 float64\n",
            "dtype: object\n"
          ],
          "name": "stdout"
        }
      ]
    },
    {
      "cell_type": "code",
      "metadata": {
        "id": "cmMWatmodnNB"
      },
      "source": [
        "for dtype in df.dtypes.iteritems():\n",
        "    print(dtype)"
      ],
      "execution_count": null,
      "outputs": []
    },
    {
      "cell_type": "code",
      "metadata": {
        "id": "zD6Tu6Ovj7_m"
      },
      "source": [
        "df.dropna(how=\"all\")"
      ],
      "execution_count": null,
      "outputs": []
    },
    {
      "cell_type": "code",
      "metadata": {
        "id": "s715dnMln6ju"
      },
      "source": [
        "# remove special charachers\n",
        "def remSpecial(dataframe):\n",
        "  # Python code to remove special char\n",
        "  # using replace() \n",
        "   \n",
        "  # initializing special characters \n",
        "  sp_chars = [';', ':', '!', \"*\",\" \"] \n",
        "   \n",
        "  # using replace() to  \n",
        "  # remove special chars  \n",
        "  for i in sp_chars : \n",
        "      dataframe = dataframe.replace(i, '')\n",
        "   \n",
        "  # printing resultant string  \n",
        "  print (\"After Remove special char \")"
      ],
      "execution_count": 13,
      "outputs": []
    },
    {
      "cell_type": "code",
      "metadata": {
        "colab": {
          "base_uri": "https://localhost:8080/"
        },
        "id": "jj1v5J4TqpqB",
        "outputId": "991955c6-a61d-4c97-90e3-8d84d2313b21"
      },
      "source": [
        "remSpecial(df)"
      ],
      "execution_count": 14,
      "outputs": [
        {
          "output_type": "stream",
          "text": [
            "After Remove special char \n"
          ],
          "name": "stdout"
        }
      ]
    },
    {
      "cell_type": "code",
      "metadata": {
        "colab": {
          "base_uri": "https://localhost:8080/"
        },
        "id": "S44fe3Uldv3i",
        "outputId": "4a7466ad-464e-4fa0-ca8f-a3ce3ab901a0"
      },
      "source": [
        "pip install pyaml"
      ],
      "execution_count": 18,
      "outputs": [
        {
          "output_type": "stream",
          "text": [
            "Collecting pyaml\n",
            "  Downloading https://files.pythonhosted.org/packages/15/c4/1310a054d33abc318426a956e7d6df0df76a6ddfa9c66f6310274fb75d42/pyaml-20.4.0-py2.py3-none-any.whl\n",
            "Requirement already satisfied: PyYAML in /usr/local/lib/python3.7/dist-packages (from pyaml) (3.13)\n",
            "Installing collected packages: pyaml\n",
            "Successfully installed pyaml-20.4.0\n"
          ],
          "name": "stdout"
        }
      ]
    },
    {
      "cell_type": "code",
      "metadata": {
        "id": "F6ncI2kHjMA3"
      },
      "source": [
        "from pyaml import yaml"
      ],
      "execution_count": 19,
      "outputs": []
    },
    {
      "cell_type": "code",
      "metadata": {
        "id": "dknhJvOPjOl9",
        "colab": {
          "base_uri": "https://localhost:8080/",
          "height": 590
        },
        "outputId": "a136a41b-5e8d-40a5-9700-1faa0a2c672a"
      },
      "source": [
        "#load the csv as df\n"
      ],
      "execution_count": 20,
      "outputs": [
        {
          "output_type": "execute_result",
          "data": {
            "text/html": [
              "<div>\n",
              "<style scoped>\n",
              "    .dataframe tbody tr th:only-of-type {\n",
              "        vertical-align: middle;\n",
              "    }\n",
              "\n",
              "    .dataframe tbody tr th {\n",
              "        vertical-align: top;\n",
              "    }\n",
              "\n",
              "    .dataframe thead th {\n",
              "        text-align: right;\n",
              "    }\n",
              "</style>\n",
              "<table border=\"1\" class=\"dataframe\">\n",
              "  <thead>\n",
              "    <tr style=\"text-align: right;\">\n",
              "      <th></th>\n",
              "      <th>Transaction ID</th>\n",
              "      <th>Date of Travel</th>\n",
              "      <th>Company</th>\n",
              "      <th>CITY</th>\n",
              "      <th>KM Travelled</th>\n",
              "      <th>Price Charged</th>\n",
              "      <th>Cost of Trip</th>\n",
              "      <th>Customer ID</th>\n",
              "      <th>Payment_Mode</th>\n",
              "      <th>Gender</th>\n",
              "      <th>Age</th>\n",
              "      <th>Income (USD/Month)</th>\n",
              "      <th>Population</th>\n",
              "      <th>Users</th>\n",
              "    </tr>\n",
              "  </thead>\n",
              "  <tbody>\n",
              "    <tr>\n",
              "      <th>0</th>\n",
              "      <td>10000011</td>\n",
              "      <td>08/01/2016</td>\n",
              "      <td>Pink Cab</td>\n",
              "      <td>ATLANTA GA</td>\n",
              "      <td>30.45</td>\n",
              "      <td>370.95</td>\n",
              "      <td>313.6350</td>\n",
              "      <td>29290</td>\n",
              "      <td>Card</td>\n",
              "      <td>Male</td>\n",
              "      <td>28</td>\n",
              "      <td>10813</td>\n",
              "      <td>814,885</td>\n",
              "      <td>24701.0</td>\n",
              "    </tr>\n",
              "    <tr>\n",
              "      <th>1</th>\n",
              "      <td>10000012</td>\n",
              "      <td>06/01/2016</td>\n",
              "      <td>Pink Cab</td>\n",
              "      <td>ATLANTA GA</td>\n",
              "      <td>28.62</td>\n",
              "      <td>358.52</td>\n",
              "      <td>334.8540</td>\n",
              "      <td>27703</td>\n",
              "      <td>Card</td>\n",
              "      <td>Male</td>\n",
              "      <td>27</td>\n",
              "      <td>9237</td>\n",
              "      <td>814,885</td>\n",
              "      <td>24701.0</td>\n",
              "    </tr>\n",
              "    <tr>\n",
              "      <th>2</th>\n",
              "      <td>10000013</td>\n",
              "      <td>02/01/2016</td>\n",
              "      <td>Pink Cab</td>\n",
              "      <td>ATLANTA GA</td>\n",
              "      <td>9.04</td>\n",
              "      <td>125.20</td>\n",
              "      <td>97.6320</td>\n",
              "      <td>28712</td>\n",
              "      <td>Cash</td>\n",
              "      <td>Male</td>\n",
              "      <td>53</td>\n",
              "      <td>11242</td>\n",
              "      <td>814,885</td>\n",
              "      <td>24701.0</td>\n",
              "    </tr>\n",
              "    <tr>\n",
              "      <th>3</th>\n",
              "      <td>10000014</td>\n",
              "      <td>07/01/2016</td>\n",
              "      <td>Pink Cab</td>\n",
              "      <td>ATLANTA GA</td>\n",
              "      <td>33.17</td>\n",
              "      <td>377.40</td>\n",
              "      <td>351.6020</td>\n",
              "      <td>28020</td>\n",
              "      <td>Cash</td>\n",
              "      <td>Male</td>\n",
              "      <td>23</td>\n",
              "      <td>23327</td>\n",
              "      <td>814,885</td>\n",
              "      <td>24701.0</td>\n",
              "    </tr>\n",
              "    <tr>\n",
              "      <th>4</th>\n",
              "      <td>10000015</td>\n",
              "      <td>03/01/2016</td>\n",
              "      <td>Pink Cab</td>\n",
              "      <td>ATLANTA GA</td>\n",
              "      <td>8.73</td>\n",
              "      <td>114.62</td>\n",
              "      <td>97.7760</td>\n",
              "      <td>27182</td>\n",
              "      <td>Card</td>\n",
              "      <td>Male</td>\n",
              "      <td>33</td>\n",
              "      <td>8536</td>\n",
              "      <td>814,885</td>\n",
              "      <td>24701.0</td>\n",
              "    </tr>\n",
              "    <tr>\n",
              "      <th>...</th>\n",
              "      <td>...</td>\n",
              "      <td>...</td>\n",
              "      <td>...</td>\n",
              "      <td>...</td>\n",
              "      <td>...</td>\n",
              "      <td>...</td>\n",
              "      <td>...</td>\n",
              "      <td>...</td>\n",
              "      <td>...</td>\n",
              "      <td>...</td>\n",
              "      <td>...</td>\n",
              "      <td>...</td>\n",
              "      <td>...</td>\n",
              "      <td>...</td>\n",
              "    </tr>\n",
              "    <tr>\n",
              "      <th>176913</th>\n",
              "      <td>10218032</td>\n",
              "      <td>31/08/2017</td>\n",
              "      <td>Yellow Cab</td>\n",
              "      <td>WASHINGTON DC</td>\n",
              "      <td>20.58</td>\n",
              "      <td>289.87</td>\n",
              "      <td>246.9600</td>\n",
              "      <td>53197</td>\n",
              "      <td>Card</td>\n",
              "      <td>Male</td>\n",
              "      <td>44</td>\n",
              "      <td>6004</td>\n",
              "      <td>418,859</td>\n",
              "      <td>127001.0</td>\n",
              "    </tr>\n",
              "    <tr>\n",
              "      <th>176914</th>\n",
              "      <td>10218033</td>\n",
              "      <td>03/09/2017</td>\n",
              "      <td>Yellow Cab</td>\n",
              "      <td>WASHINGTON DC</td>\n",
              "      <td>28.75</td>\n",
              "      <td>393.03</td>\n",
              "      <td>379.5000</td>\n",
              "      <td>51959</td>\n",
              "      <td>Card</td>\n",
              "      <td>Female</td>\n",
              "      <td>54</td>\n",
              "      <td>17743</td>\n",
              "      <td>418,859</td>\n",
              "      <td>127001.0</td>\n",
              "    </tr>\n",
              "    <tr>\n",
              "      <th>176915</th>\n",
              "      <td>10218034</td>\n",
              "      <td>02/09/2017</td>\n",
              "      <td>Yellow Cab</td>\n",
              "      <td>WASHINGTON DC</td>\n",
              "      <td>32.13</td>\n",
              "      <td>421.49</td>\n",
              "      <td>400.9824</td>\n",
              "      <td>51792</td>\n",
              "      <td>Card</td>\n",
              "      <td>Male</td>\n",
              "      <td>19</td>\n",
              "      <td>17027</td>\n",
              "      <td>418,859</td>\n",
              "      <td>127001.0</td>\n",
              "    </tr>\n",
              "    <tr>\n",
              "      <th>176916</th>\n",
              "      <td>10218035</td>\n",
              "      <td>31/08/2017</td>\n",
              "      <td>Yellow Cab</td>\n",
              "      <td>WASHINGTON DC</td>\n",
              "      <td>35.52</td>\n",
              "      <td>495.40</td>\n",
              "      <td>498.7008</td>\n",
              "      <td>52924</td>\n",
              "      <td>Cash</td>\n",
              "      <td>Female</td>\n",
              "      <td>56</td>\n",
              "      <td>2139</td>\n",
              "      <td>418,859</td>\n",
              "      <td>127001.0</td>\n",
              "    </tr>\n",
              "    <tr>\n",
              "      <th>176917</th>\n",
              "      <td>10218036</td>\n",
              "      <td>03/09/2017</td>\n",
              "      <td>Yellow Cab</td>\n",
              "      <td>WASHINGTON DC</td>\n",
              "      <td>11.88</td>\n",
              "      <td>150.93</td>\n",
              "      <td>156.8160</td>\n",
              "      <td>53096</td>\n",
              "      <td>Card</td>\n",
              "      <td>Male</td>\n",
              "      <td>24</td>\n",
              "      <td>472</td>\n",
              "      <td>NaN</td>\n",
              "      <td>NaN</td>\n",
              "    </tr>\n",
              "  </tbody>\n",
              "</table>\n",
              "<p>176918 rows × 14 columns</p>\n",
              "</div>"
            ],
            "text/plain": [
              "        Transaction ID Date of Travel  ... Population     Users\n",
              "0             10000011     08/01/2016  ...    814,885   24701.0\n",
              "1             10000012     06/01/2016  ...    814,885   24701.0\n",
              "2             10000013     02/01/2016  ...    814,885   24701.0\n",
              "3             10000014     07/01/2016  ...    814,885   24701.0\n",
              "4             10000015     03/01/2016  ...    814,885   24701.0\n",
              "...                ...            ...  ...        ...       ...\n",
              "176913        10218032     31/08/2017  ...    418,859  127001.0\n",
              "176914        10218033     03/09/2017  ...    418,859  127001.0\n",
              "176915        10218034     02/09/2017  ...    418,859  127001.0\n",
              "176916        10218035     31/08/2017  ...    418,859  127001.0\n",
              "176917        10218036     03/09/2017  ...        NaN       NaN\n",
              "\n",
              "[176918 rows x 14 columns]"
            ]
          },
          "metadata": {
            "tags": []
          },
          "execution_count": 20
        }
      ]
    }
  ]
}